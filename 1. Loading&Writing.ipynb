{
 "cells": [
  {
   "cell_type": "markdown",
   "id": "3a8ade1d-ceb1-4fcc-9fbe-eb430facf9be",
   "metadata": {},
   "source": [
    "# <span style=\"color:navy\"> Análisis de secuenciación de RNA de una sola célula (scRNA-seq) en hepatoblastoma (HB)</span>\n",
    "\n",
    "El presente análisis de secuenciación de una sola célula, se basa en los estudios de Bruce Aronow et al., (January 25, 2023), *Modeling Hepatoblastoma: Identification of Distinct Tumor Cell Populations and Key Genetic Mechanisms through Single Cell Sequencing (scRNA-seq)* y de Sonya A MacParland et al. (June 19, 2024), *Single cell RNA sequencing of human liver reveals distinct intrahepatic macrophage populations* obtenidos a través del portal [Human Cell Atlas](https://data.humancellatlas.org/) (HCA) donde: \n",
    "\n",
    "1. **Primer estudio:** Bruce Aronow et al. (January 25, 2023) [Modeling Hepatoblastoma: Identification of Distinct Tumor Cell Populations and Key Genetic Mechanisms through Single Cell Sequencing (scRNA-seq)](https://explore.data.humancellatlas.org/projects/2084526b-a66f-4c40-bb89-6fd162f2eb38), se descargaron los archivos de matriz 10X con un subconjunto de muestra: 2 muestras de hígado sano (control) y 5 muestras de tumor de hepatoblastoma con el tipo de archivo *tar.gz* que contiene 14 archivos (2,63 GB).\n",
    "\n",
    "2. **Segundo estudio:** Sonya A MacParland et al. (June 19, 2024) [Single cell RNA sequencing of human liver reveals distinct intrahepatic macrophage populations](https://explore.data.humancellatlas.org/projects/4d6f6c96-2a83-43d8-8fe1-0f53bffd4674), se descargaron los archivos en formato *loom* que contiene 6 archivos (7,67 GB) donde se seleccionaron 5 muestras tumorales y 2 controles.\n",
    "\n",
    "Después de la descarga de los archivos y antes de preprocesar los datos, se limpian los datos para trabajar solo con el número de genes (n_genes), identificadores de genes y el número de células (n_cells)."
   ]
  },
  {
   "cell_type": "markdown",
   "id": "738614c6-871c-48ac-8e5b-2639e0cb7afa",
   "metadata": {},
   "source": [
    "----------\n",
    "\n",
    "El artículo titulado \"*Identification of distinct tumor cell populations and key genetic mechanisms through single cell sequencing in hepatoblastoma*\" se enfoca en el análisis del hepatoblastoma (HB), el tumor hepático maligno más común durante la infancia, en pacientes pediátricos. Los investigadores emplearon la secuenciación de ARN de una sola célula (scRNAseq) para estudiar muestras de tumor humano, tejido hepático adyacente no tumoral y xenoinjertos derivados de pacientes (PDX). \n",
    "\n",
    "**Características de las muestras utilizadas:**\n",
    "\n",
    "- **Muestras de tumor humano:** Se obtuvieron directamente de pacientes pediátricos diagnosticados con hepatoblastoma (HB).\n",
    "\n",
    "- **Tejido hepático adyacente no tumoral:** Muestras de hígado sin afectación tumoral, recolectadas de las mismas áreas anatómicas que las muestras tumorales para servir como controles.\n",
    "\n",
    "- **Xenoinjertos derivados de pacientes (PDX):** Fragmentos de tumor humano fueron implantados en ratones inmunodeficientes para generar modelos PDX, permitiendo el estudio del tumor en un entorno in vivo.\n",
    "\n",
    "**Etapa de la enfermedad en los pacientes:**\n",
    "\n",
    "El artículo no proporciona detalles específicos sobre las etapas clínicas de la enfermedad en los pacientes de los cuales se obtuvieron las muestras. Sin embargo, dado que las muestras tumorales se utilizaron para crear modelos PDX y para análisis moleculares detallados, es probable que provinieran de pacientes en etapas donde el tumor era accesible para biopsia o resección quirúrgica.\n",
    "\n",
    "**<span style=\"color:navy\">Evaluación y caracterización del microambiente celular:</span>**\n",
    "\n",
    "Mediante el análisis de scRNAseq, los investigadores identificaron diversas poblaciones celulares dentro del tumor y el tejido hepático adyacente. Se detectaron diferentes tipos de células, incluyendo células tumorales, hepatocitos, células endoteliales, células estrelladas hepáticas, eritrocitos, células T/NK y colangiocitos. Además, se identificaron subpoblaciones específicas de células tumorales con perfiles genéticos distintos, lo que sugiere heterogeneidad intratumoral. Este enfoque permitió una comprensión detallada de las interacciones entre las células tumorales y su microambiente, proporcionando información valiosa sobre los mecanismos genéticos clave en el desarrollo y progresión del hepatoblastoma.\n",
    "\n",
    "----------\n",
    "\n",
    "El artículo titulado \"*Single cell RNA sequencing of human liver reveals distinct intrahepatic macrophage populations*\" se centra en la creación de un mapa detallado del paisaje celular del hígado humano mediante la secuenciación de ARN de una sola célula (scRNA-seq).\n",
    "\n",
    "**Características de las muestras utilizadas:**\n",
    "\n",
    "- **Origen de las muestras:** Se obtuvieron muestras de tejido hepático fresco de cinco donantes humanos fallecidos por muerte neurológica (NDD). Estos donantes fueron considerados sanos en términos hepáticos, ya que sus hígados estaban destinados a trasplante pero no fueron utilizados por razones no relacionadas con la salud del órgano.\n",
    "\n",
    "- **Proceso de disociación:** Se desarrolló un protocolo específico para disociar el tejido hepático en células individuales sin dañar poblaciones celulares frágiles, evitando técnicas que pudieran enriquecer o sesgar ciertas poblaciones celulares.\n",
    "\n",
    "**Etapa de la enfermedad en los pacientes:**\n",
    "\n",
    "Las muestras provinieron de donantes sin enfermedades hepáticas conocidas, por lo que se consideran representativas de hígados sanos. No se incluyeron pacientes con patologías hepáticas en este estudio.\n",
    "\n",
    "**<span style=\"color:navy\">Evaluación y caracterización del microambiente celular:</span>**\n",
    "\n",
    "Mediante scRNA-seq, los investigadores analizaron 8,444 células hepáticas, identificando 20 poblaciones celulares distintas, incluyendo:\n",
    "\n",
    "- **Células parenquimatosas:** Hepatocitos.\n",
    "\n",
    "- **Células no parenquimatosas:** Células endoteliales, colangiocitos, células estrelladas hepáticas, células B, diversas subpoblaciones de células T convencionales y no convencionales, células NK y diferentes poblaciones de macrófagos intrahepáticos.\n",
    "\n",
    "Un hallazgo destacado fue la identificación de dos poblaciones distintas de macrófagos residentes en el hígado, sugiriendo funciones inflamatorias y no inflamatorias/inmunorreguladoras específicas. Este análisis detallado proporciona una visión integral del microambiente inmunológico hepático en condiciones normales."
   ]
  },
  {
   "cell_type": "markdown",
   "id": "3bf5fb6e-6404-41f4-b118-b2d7a46ecb69",
   "metadata": {},
   "source": [
    "--------\n",
    "\n",
    "## <span style=\"color:cornflowerblue\"> 1. Loading and writing </span>\n",
    "\n",
    "### <span style=\"color:navy\">1.0 Configuración del entorno y datos</span>\n",
    "\n",
    "Cargamos las librerias necesarias en Python. La API de Scanpy proporciona acceso a un conjunto completo de herramientas, que utiliza bibliotecas como NumPy y SciPy, mientras que Pandas facilita la importación de datos y gestiona las estructuras de datos, particularmente el módulo AnnData. Para las visualizaciones, se deben importar Matplotlib y Seaborn."
   ]
  },
  {
   "cell_type": "code",
   "execution_count": 1,
   "id": "c06c875a-c161-40e0-9049-3177fcf117dc",
   "metadata": {},
   "outputs": [
    {
     "name": "stderr",
     "output_type": "stream",
     "text": [
      "/home/mcgonzalez/miniconda3/envs/Servicio/lib/python3.10/site-packages/anndata/utils.py:429: FutureWarning: Importing read_csv from `anndata` is deprecated. Import anndata.io.read_csv instead.\n",
      "  warnings.warn(msg, FutureWarning)\n",
      "/home/mcgonzalez/miniconda3/envs/Servicio/lib/python3.10/site-packages/anndata/utils.py:429: FutureWarning: Importing read_loom from `anndata` is deprecated. Import anndata.io.read_loom instead.\n",
      "  warnings.warn(msg, FutureWarning)\n",
      "/home/mcgonzalez/miniconda3/envs/Servicio/lib/python3.10/site-packages/anndata/utils.py:429: FutureWarning: Importing read_text from `anndata` is deprecated. Import anndata.io.read_text instead.\n",
      "  warnings.warn(msg, FutureWarning)\n",
      "/home/mcgonzalez/miniconda3/envs/Servicio/lib/python3.10/site-packages/anndata/utils.py:429: FutureWarning: Importing CSCDataset from `anndata.experimental` is deprecated. Import anndata.abc.CSCDataset instead.\n",
      "  warnings.warn(msg, FutureWarning)\n",
      "/home/mcgonzalez/miniconda3/envs/Servicio/lib/python3.10/site-packages/anndata/utils.py:429: FutureWarning: Importing CSRDataset from `anndata.experimental` is deprecated. Import anndata.abc.CSRDataset instead.\n",
      "  warnings.warn(msg, FutureWarning)\n",
      "/home/mcgonzalez/miniconda3/envs/Servicio/lib/python3.10/site-packages/anndata/utils.py:429: FutureWarning: Importing read_elem from `anndata.experimental` is deprecated. Import anndata.io.read_elem instead.\n",
      "  warnings.warn(msg, FutureWarning)\n",
      "/home/mcgonzalez/miniconda3/envs/Servicio/lib/python3.10/site-packages/tqdm/auto.py:21: TqdmWarning: IProgress not found. Please update jupyter and ipywidgets. See https://ipywidgets.readthedocs.io/en/stable/user_install.html\n",
      "  from .autonotebook import tqdm as notebook_tqdm\n",
      "/home/mcgonzalez/miniconda3/envs/Servicio/lib/python3.10/site-packages/docrep/decorators.py:43: SyntaxWarning: 'param_categorical_covariate_keys' is not a valid key!\n",
      "  doc = func(self, args[0].__doc__, *args[1:], **kwargs)\n"
     ]
    }
   ],
   "source": [
    "#Para descargas\n",
    "import gdown, os, gzip, shutil\n",
    "\n",
    "# Gestión básica de datos y representación gráfica\n",
    "import pandas as pd\n",
    "import numpy as np\n",
    "from scipy import sparse\n",
    "import matplotlib.pyplot as plt\n",
    "import os\n",
    "\n",
    "# Scanpy fundamentals\n",
    "import anndata as ad\n",
    "import scanpy as sc\n",
    "import seaborn as sb\n",
    "\n",
    "# sc.settings.set_figure_params(dpi=200, frameon=False)\n",
    "sc.set_figure_params(figsize=(6, 6))\n",
    "import scvi"
   ]
  },
  {
   "cell_type": "markdown",
   "id": "261c50c7-1117-402d-bd16-c75be69b7d4d",
   "metadata": {},
   "source": [
    "----------\n",
    "### <span style=\"color:navy\">1.1 Carga de las muestras control de hígado sano</span>\n",
    "Estas muestras corresponden a las del **segundo estudio**: Sonya A MacParland et al. (June 19, 2024) [Single cell RNA sequencing of human liver reveals distinct intrahepatic macrophage populations](https://explore.data.humancellatlas.org/projects/4d6f6c96-2a83-43d8-8fe1-0f53bffd4674), que son archivos en formato *loom* que contiene 6 archivos (7,67 GB); 5 muestras tumorales y 2 controles.\n",
    "\n",
    "**Download via curl** --> Species: Homo sapiens\n",
    "\n",
    "File Type:\n",
    "| Name      | File Count | File Size |\n",
    "|-----------|------------|-----------|\n",
    "| loom      | 6          | 7.67 GB   |"
   ]
  },
  {
   "cell_type": "markdown",
   "id": "bd0e1fe0-baf9-4234-854a-839a7baa39d6",
   "metadata": {},
   "source": [
    "**Formatos de archivos de entrada**\n",
    "\n",
    "| Nombre                           | Extensión |\n",
    "|---------------------------------|-----------|\n",
    "| 10x hdf5                        | .hdf5     |\n",
    "| R Data Format                   | .rds      |\n",
    "| AnnData Object                  | .h5ad     |\n",
    "| Loom                            | .loom     |\n",
    "| Text-based Market Exchange Format (MEX) | .mtx      |"
   ]
  },
  {
   "cell_type": "code",
   "execution_count": 4,
   "id": "52ce4a95-1691-40d9-afe6-619174bbf1f4",
   "metadata": {},
   "outputs": [
    {
     "name": "stdout",
     "output_type": "stream",
     "text": [
      "/home/mcgonzalez/Servicio_Social/Data/HB_filtered\n"
     ]
    }
   ],
   "source": [
    "%cd /home/mcgonzalez/Servicio_Social/Data/HB_filtered"
   ]
  },
  {
   "cell_type": "code",
   "execution_count": 5,
   "id": "60f21cac-0e21-4e0f-99fb-b77fab6aa148",
   "metadata": {},
   "outputs": [
    {
     "name": "stdout",
     "output_type": "stream",
     "text": [
      "Descomprimido: /home/mcgonzalez/Servicio_Social/Data/HB_filtered/HB17_background_filtered_feature_bc_matrix/barcodes.tsv.gz\n",
      "Descomprimido: /home/mcgonzalez/Servicio_Social/Data/HB_filtered/HB17_background_filtered_feature_bc_matrix/features.tsv.gz\n",
      "Descomprimido: /home/mcgonzalez/Servicio_Social/Data/HB_filtered/HB17_background_filtered_feature_bc_matrix/matrix.mtx.gz\n"
     ]
    }
   ],
   "source": [
    "import gzip\n",
    "import shutil\n",
    "import os\n",
    "\n",
    "# Ruta base donde están los archivos\n",
    "base_path = \"/home/mcgonzalez/Servicio_Social/Data/HB_filtered/HB17_background_filtered_feature_bc_matrix\"\n",
    "\n",
    "# Archivos de entrada y salida\n",
    "files = [\n",
    "    \"barcodes.tsv.gz\",\n",
    "    \"features.tsv.gz\",\n",
    "    \"matrix.mtx.gz\",\n",
    "]\n",
    "\n",
    "# Descomprimir cada archivo\n",
    "for file in files:\n",
    "    input_path = os.path.join(base_path, file)\n",
    "    output_path = os.path.join(base_path, file.replace('.gz', ''))\n",
    "    with gzip.open(input_path, 'rb') as f_in:\n",
    "        with open(output_path, 'wb') as f_out:\n",
    "            shutil.copyfileobj(f_in, f_out)\n",
    "            print(f\"Descomprimido: {input_path}\")"
   ]
  },
  {
   "cell_type": "code",
   "execution_count": 6,
   "id": "c641128f-f7dd-4069-b843-22a38f1739fa",
   "metadata": {},
   "outputs": [],
   "source": [
    "adata6 = sc.read_10x_mtx(\n",
    "    \"/home/mcgonzalez/Servicio_Social/Data/HB_filtered/HB17_background_filtered_feature_bc_matrix\",\n",
    "    var_names=\"gene_symbols\",\n",
    "    cache=False  # Fuerza la lectura directa sin caché\n",
    ")"
   ]
  },
  {
   "cell_type": "code",
   "execution_count": 7,
   "id": "a45b1a2b-d50a-4ab7-b766-09894a11918a",
   "metadata": {},
   "outputs": [],
   "source": [
    "adata6.var_names_make_unique()"
   ]
  },
  {
   "cell_type": "code",
   "execution_count": 8,
   "id": "c1509dbd-db72-44f5-be5b-56b28d62de1f",
   "metadata": {},
   "outputs": [],
   "source": [
    "sc.pp.filter_genes(adata6, min_cells =10)\n",
    "sc.pp.filter_cells(adata6, min_genes =200)"
   ]
  },
  {
   "cell_type": "code",
   "execution_count": 9,
   "id": "17b65234-f8d9-4b4f-93b2-5f9e2e93b5dc",
   "metadata": {},
   "outputs": [
    {
     "data": {
      "text/plain": [
       "AnnData object with n_obs × n_vars = 11197 × 16895\n",
       "    obs: 'n_genes'\n",
       "    var: 'gene_ids', 'n_cells'"
      ]
     },
     "execution_count": 9,
     "metadata": {},
     "output_type": "execute_result"
    }
   ],
   "source": [
    "adata6.var = adata6.var.drop(columns=['feature_types'])\n",
    "adata6.var_names_make_unique()\n",
    "adata6"
   ]
  },
  {
   "cell_type": "code",
   "execution_count": 10,
   "id": "f21cf1ba-8aac-4b5e-a46f-8e82a0c5324c",
   "metadata": {},
   "outputs": [
    {
     "name": "stdout",
     "output_type": "stream",
     "text": [
      "Descomprimido: /home/mcgonzalez/Servicio_Social/Data/HB_filtered/HB53_background_filtered_feature_bc_matrix/barcodes.tsv.gz\n",
      "Descomprimido: /home/mcgonzalez/Servicio_Social/Data/HB_filtered/HB53_background_filtered_feature_bc_matrix/features.tsv.gz\n",
      "Descomprimido: /home/mcgonzalez/Servicio_Social/Data/HB_filtered/HB53_background_filtered_feature_bc_matrix/matrix.mtx.gz\n"
     ]
    }
   ],
   "source": [
    "import gzip\n",
    "import shutil\n",
    "import os\n",
    "\n",
    "# Ruta base donde están los archivos\n",
    "base_path = \"/home/mcgonzalez/Servicio_Social/Data/HB_filtered/HB53_background_filtered_feature_bc_matrix\"\n",
    "\n",
    "# Archivos de entrada y salida\n",
    "files = [\n",
    "    \"barcodes.tsv.gz\",\n",
    "    \"features.tsv.gz\",\n",
    "    \"matrix.mtx.gz\",\n",
    "]\n",
    "\n",
    "# Descomprimir cada archivo\n",
    "for file in files:\n",
    "    input_path = os.path.join(base_path, file)\n",
    "    output_path = os.path.join(base_path, file.replace('.gz', ''))\n",
    "    with gzip.open(input_path, 'rb') as f_in:\n",
    "        with open(output_path, 'wb') as f_out:\n",
    "            shutil.copyfileobj(f_in, f_out)\n",
    "            print(f\"Descomprimido: {input_path}\")"
   ]
  },
  {
   "cell_type": "code",
   "execution_count": 17,
   "id": "f5bbb327-85d0-479c-9ae9-1b3dfad0cf69",
   "metadata": {},
   "outputs": [],
   "source": [
    "adata7 = sc.read_10x_mtx(\n",
    "    \"/home/mcgonzalez/Servicio_Social/Data/HB_filtered/HB53_background_filtered_feature_bc_matrix\",\n",
    "    var_names=\"gene_symbols\",\n",
    "    cache=False  # Fuerza la lectura directa sin caché\n",
    ")"
   ]
  },
  {
   "cell_type": "code",
   "execution_count": 18,
   "id": "209644af-08e7-4d8f-83e7-94795d84dc0a",
   "metadata": {},
   "outputs": [],
   "source": [
    "adata7.var_names_make_unique()"
   ]
  },
  {
   "cell_type": "code",
   "execution_count": 19,
   "id": "19687eb1-322d-44ab-9675-c8dd1b2cfccc",
   "metadata": {},
   "outputs": [],
   "source": [
    "sc.pp.filter_genes(adata7, min_cells =10)\n",
    "sc.pp.filter_cells(adata7, min_genes =200)"
   ]
  },
  {
   "cell_type": "code",
   "execution_count": 20,
   "id": "7d79ba47-90b0-4fd9-8c0f-e1dbdabf77bf",
   "metadata": {},
   "outputs": [
    {
     "data": {
      "text/plain": [
       "AnnData object with n_obs × n_vars = 8540 × 22277\n",
       "    obs: 'n_genes'\n",
       "    var: 'gene_ids', 'n_cells'"
      ]
     },
     "execution_count": 20,
     "metadata": {},
     "output_type": "execute_result"
    }
   ],
   "source": [
    "adata7.var = adata7.var.drop(columns=['feature_types'])\n",
    "adata7.var_names_make_unique()\n",
    "adata7"
   ]
  },
  {
   "cell_type": "markdown",
   "id": "b5a4b07c-8981-4f5a-9a11-7bfadfa2a4fc",
   "metadata": {},
   "source": [
    "-------------\n",
    "## <span style=\"color:navy\">1.2 Carga de muestras de hepatoblastoma (HB)</span>\n",
    "Estas muestras corresponden al primer estudio de Bruce Aronow et al. (January 25, 2023) [Modeling Hepatoblastoma: Identification of Distinct Tumor Cell Populations and Key Genetic Mechanisms through Single Cell Sequencing (scRNA-seq)](https://explore.data.humancellatlas.org/projects/2084526b-a66f-4c40-bb89-6fd162f2eb38), que contiene los archivos de matriz 10X; 2 muestras de hígado sano (control) y 5 muestras de tumor de hepatoblastoma con el tipo de archivo *tar.gz* que contiene 14 archivos (2,63 GB).\n",
    "\n",
    "**Download via curl** --> Species: Homo sapiens\n",
    "\n",
    "File Type:\n",
    "| Name      | File Count | File Size |\n",
    "|-----------|------------|-----------|\n",
    "| tar.gz    | 14         | 2.63 GB   |"
   ]
  },
  {
   "cell_type": "code",
   "execution_count": 21,
   "id": "749db346-135a-4838-8fce-7bed263f2733",
   "metadata": {},
   "outputs": [
    {
     "name": "stdout",
     "output_type": "stream",
     "text": [
      "Descomprimido: /home/mcgonzalez/Servicio_Social/Data/HB_filtered/HB17_tumor_filtered_feature_bc_matrix/barcodes.tsv.gz\n",
      "Descomprimido: /home/mcgonzalez/Servicio_Social/Data/HB_filtered/HB17_tumor_filtered_feature_bc_matrix/features.tsv.gz\n",
      "Descomprimido: /home/mcgonzalez/Servicio_Social/Data/HB_filtered/HB17_tumor_filtered_feature_bc_matrix/matrix.mtx.gz\n"
     ]
    }
   ],
   "source": [
    "import gzip\n",
    "import shutil\n",
    "import os\n",
    "\n",
    "# Ruta base donde están los archivos\n",
    "base_path = \"/home/mcgonzalez/Servicio_Social/Data/HB_filtered/HB17_tumor_filtered_feature_bc_matrix\"\n",
    "\n",
    "# Archivos de entrada y salida\n",
    "files = [\n",
    "    \"barcodes.tsv.gz\",\n",
    "    \"features.tsv.gz\",\n",
    "    \"matrix.mtx.gz\",\n",
    "]\n",
    "\n",
    "# Descomprimir cada archivo\n",
    "for file in files:\n",
    "    input_path = os.path.join(base_path, file)\n",
    "    output_path = os.path.join(base_path, file.replace('.gz', ''))\n",
    "    with gzip.open(input_path, 'rb') as f_in:\n",
    "        with open(output_path, 'wb') as f_out:\n",
    "            shutil.copyfileobj(f_in, f_out)\n",
    "            print(f\"Descomprimido: {input_path}\")"
   ]
  },
  {
   "cell_type": "code",
   "execution_count": 22,
   "id": "c2cf7c6d-d906-4d13-9459-cd711b75d502",
   "metadata": {},
   "outputs": [],
   "source": [
    "adata8 = sc.read_10x_mtx('HB17_tumor_filtered_feature_bc_matrix', var_names='gene_symbols')"
   ]
  },
  {
   "cell_type": "code",
   "execution_count": 23,
   "id": "fdbc7190-43b4-44ee-a17c-d50e3fb101f9",
   "metadata": {},
   "outputs": [],
   "source": [
    "adata8.var_names_make_unique()"
   ]
  },
  {
   "cell_type": "code",
   "execution_count": 24,
   "id": "64fa6e21-4cf5-4707-8a58-27390400baaf",
   "metadata": {},
   "outputs": [],
   "source": [
    "sc.pp.filter_genes(adata8, min_cells =10)\n",
    "sc.pp.filter_cells(adata8, min_genes =200)"
   ]
  },
  {
   "cell_type": "code",
   "execution_count": 25,
   "id": "1f58b19e-8391-4b0a-84d2-c0ddb3e4af92",
   "metadata": {},
   "outputs": [
    {
     "data": {
      "text/plain": [
       "AnnData object with n_obs × n_vars = 7995 × 22112\n",
       "    obs: 'n_genes'\n",
       "    var: 'gene_ids', 'n_cells'"
      ]
     },
     "execution_count": 25,
     "metadata": {},
     "output_type": "execute_result"
    }
   ],
   "source": [
    "adata8.var = adata8.var.drop(columns=['feature_types'])\n",
    "adata8.var_names_make_unique()\n",
    "adata8"
   ]
  },
  {
   "cell_type": "code",
   "execution_count": 26,
   "id": "12d0478a-05c4-408b-8579-97fe982579bf",
   "metadata": {},
   "outputs": [
    {
     "name": "stdout",
     "output_type": "stream",
     "text": [
      "Descomprimido: /home/mcgonzalez/Servicio_Social/Data/HB_filtered/HB17_PDX_filtered_feature_bc_matrix/barcodes.tsv.gz\n",
      "Descomprimido: /home/mcgonzalez/Servicio_Social/Data/HB_filtered/HB17_PDX_filtered_feature_bc_matrix/features.tsv.gz\n",
      "Descomprimido: /home/mcgonzalez/Servicio_Social/Data/HB_filtered/HB17_PDX_filtered_feature_bc_matrix/matrix.mtx.gz\n"
     ]
    }
   ],
   "source": [
    "import gzip\n",
    "import shutil\n",
    "import os\n",
    "\n",
    "# Ruta base donde están los archivos\n",
    "base_path = \"/home/mcgonzalez/Servicio_Social/Data/HB_filtered/HB17_PDX_filtered_feature_bc_matrix\"\n",
    "\n",
    "# Archivos de entrada y salida\n",
    "files = [\n",
    "    \"barcodes.tsv.gz\",\n",
    "    \"features.tsv.gz\",\n",
    "    \"matrix.mtx.gz\",\n",
    "]\n",
    "\n",
    "# Descomprimir cada archivo\n",
    "for file in files:\n",
    "    input_path = os.path.join(base_path, file)\n",
    "    output_path = os.path.join(base_path, file.replace('.gz', ''))\n",
    "    with gzip.open(input_path, 'rb') as f_in:\n",
    "        with open(output_path, 'wb') as f_out:\n",
    "            shutil.copyfileobj(f_in, f_out)\n",
    "            print(f\"Descomprimido: {input_path}\")"
   ]
  },
  {
   "cell_type": "code",
   "execution_count": 27,
   "id": "48f91fba-8a3f-4142-812b-4a4964cc1a51",
   "metadata": {},
   "outputs": [],
   "source": [
    "adata9 = sc.read_10x_mtx(\n",
    "    \"/home/mcgonzalez/Servicio_Social/Data/HB_filtered/HB17_PDX_filtered_feature_bc_matrix\",\n",
    "    var_names=\"gene_symbols\",\n",
    "    cache=False  # Fuerza la lectura directa sin caché\n",
    ")"
   ]
  },
  {
   "cell_type": "code",
   "execution_count": 28,
   "id": "34c664fb-91ee-4dbb-8b34-872723ec4809",
   "metadata": {},
   "outputs": [],
   "source": [
    "adata9.var_names_make_unique()"
   ]
  },
  {
   "cell_type": "code",
   "execution_count": 29,
   "id": "46e4f22b-5347-40ed-8bc0-1e7c126416b1",
   "metadata": {},
   "outputs": [],
   "source": [
    "sc.pp.filter_genes(adata9, min_cells =10)\n",
    "sc.pp.filter_cells(adata9, min_genes =200)"
   ]
  },
  {
   "cell_type": "code",
   "execution_count": 30,
   "id": "956734c5-44f7-415c-b79e-b9d5214eb2e6",
   "metadata": {},
   "outputs": [
    {
     "data": {
      "text/plain": [
       "AnnData object with n_obs × n_vars = 8027 × 22405\n",
       "    obs: 'n_genes'\n",
       "    var: 'gene_ids', 'n_cells'"
      ]
     },
     "execution_count": 30,
     "metadata": {},
     "output_type": "execute_result"
    }
   ],
   "source": [
    "adata9.var = adata9.var.drop(columns=['feature_types'])\n",
    "adata9.var_names_make_unique()\n",
    "adata9"
   ]
  },
  {
   "cell_type": "code",
   "execution_count": 31,
   "id": "16371d6c-164f-482e-a66f-b83f90c3abe1",
   "metadata": {},
   "outputs": [
    {
     "name": "stdout",
     "output_type": "stream",
     "text": [
      "Descomprimido: /home/mcgonzalez/Servicio_Social/Data/HB_filtered/HB30_tumor_filtered_feature_bc_matrix/barcodes.tsv.gz\n",
      "Descomprimido: /home/mcgonzalez/Servicio_Social/Data/HB_filtered/HB30_tumor_filtered_feature_bc_matrix/features.tsv.gz\n",
      "Descomprimido: /home/mcgonzalez/Servicio_Social/Data/HB_filtered/HB30_tumor_filtered_feature_bc_matrix/matrix.mtx.gz\n"
     ]
    }
   ],
   "source": [
    "import gzip\n",
    "import shutil\n",
    "import os\n",
    "\n",
    "# Ruta base donde están los archivos\n",
    "base_path = \"/home/mcgonzalez/Servicio_Social/Data/HB_filtered/HB30_tumor_filtered_feature_bc_matrix\"\n",
    "\n",
    "# Archivos de entrada y salida\n",
    "files = [\n",
    "    \"barcodes.tsv.gz\",\n",
    "    \"features.tsv.gz\",\n",
    "    \"matrix.mtx.gz\",\n",
    "]\n",
    "\n",
    "# Descomprimir cada archivo\n",
    "for file in files:\n",
    "    input_path = os.path.join(base_path, file)\n",
    "    output_path = os.path.join(base_path, file.replace('.gz', ''))\n",
    "    with gzip.open(input_path, 'rb') as f_in:\n",
    "        with open(output_path, 'wb') as f_out:\n",
    "            shutil.copyfileobj(f_in, f_out)\n",
    "            print(f\"Descomprimido: {input_path}\")"
   ]
  },
  {
   "cell_type": "code",
   "execution_count": 32,
   "id": "cf0f7a21-ee7b-4d01-98ce-3a499d47f735",
   "metadata": {},
   "outputs": [],
   "source": [
    "adata10 = sc.read_10x_mtx(\n",
    "    \"/home/mcgonzalez/Servicio_Social/Data/HB_filtered/HB30_tumor_filtered_feature_bc_matrix\",\n",
    "    var_names=\"gene_symbols\",\n",
    "    cache=False  # Fuerza la lectura directa sin caché\n",
    ")"
   ]
  },
  {
   "cell_type": "code",
   "execution_count": 33,
   "id": "efd29dfc-5d02-46d1-b223-de302bd44bc1",
   "metadata": {},
   "outputs": [],
   "source": [
    "adata10.var_names_make_unique()"
   ]
  },
  {
   "cell_type": "code",
   "execution_count": 34,
   "id": "74422ab4-fabf-4790-989b-6937e6287c04",
   "metadata": {},
   "outputs": [],
   "source": [
    "sc.pp.filter_genes(adata10, min_cells =10)\n",
    "sc.pp.filter_cells(adata10, min_genes =200)"
   ]
  },
  {
   "cell_type": "code",
   "execution_count": 35,
   "id": "8905743d-98b0-4c43-a33f-9ee17f7a9e59",
   "metadata": {},
   "outputs": [
    {
     "data": {
      "text/plain": [
       "AnnData object with n_obs × n_vars = 19042 × 24433\n",
       "    obs: 'n_genes'\n",
       "    var: 'gene_ids', 'n_cells'"
      ]
     },
     "execution_count": 35,
     "metadata": {},
     "output_type": "execute_result"
    }
   ],
   "source": [
    "adata10.var = adata10.var.drop(columns=['feature_types'])\n",
    "adata10.var_names_make_unique()\n",
    "adata10"
   ]
  },
  {
   "cell_type": "code",
   "execution_count": 36,
   "id": "9c210d3a-4afd-448a-a646-8b0993ed7c68",
   "metadata": {},
   "outputs": [
    {
     "name": "stdout",
     "output_type": "stream",
     "text": [
      "Descomprimido: /home/mcgonzalez/Servicio_Social/Data/HB_filtered/HB30_PDX_filtered_feature_bc_matrix/barcodes.tsv.gz\n",
      "Descomprimido: /home/mcgonzalez/Servicio_Social/Data/HB_filtered/HB30_PDX_filtered_feature_bc_matrix/features.tsv.gz\n",
      "Descomprimido: /home/mcgonzalez/Servicio_Social/Data/HB_filtered/HB30_PDX_filtered_feature_bc_matrix/matrix.mtx.gz\n"
     ]
    }
   ],
   "source": [
    "import gzip\n",
    "import shutil\n",
    "import os\n",
    "\n",
    "# Ruta base donde están los archivos\n",
    "base_path = \"/home/mcgonzalez/Servicio_Social/Data/HB_filtered/HB30_PDX_filtered_feature_bc_matrix\"\n",
    "\n",
    "# Archivos de entrada y salida\n",
    "files = [\n",
    "    \"barcodes.tsv.gz\",\n",
    "    \"features.tsv.gz\",\n",
    "    \"matrix.mtx.gz\",\n",
    "]\n",
    "\n",
    "# Descomprimir cada archivo\n",
    "for file in files:\n",
    "    input_path = os.path.join(base_path, file)\n",
    "    output_path = os.path.join(base_path, file.replace('.gz', ''))\n",
    "    with gzip.open(input_path, 'rb') as f_in:\n",
    "        with open(output_path, 'wb') as f_out:\n",
    "            shutil.copyfileobj(f_in, f_out)\n",
    "            print(f\"Descomprimido: {input_path}\")"
   ]
  },
  {
   "cell_type": "code",
   "execution_count": 37,
   "id": "2ffccdb5-cc9a-4c58-bf58-8e7b1377b0b3",
   "metadata": {},
   "outputs": [],
   "source": [
    "adata11 = sc.read_10x_mtx(\n",
    "    \"/home/mcgonzalez/Servicio_Social/Data/HB_filtered/HB30_PDX_filtered_feature_bc_matrix\",\n",
    "    var_names=\"gene_symbols\",\n",
    "    cache=False  # Fuerza la lectura directa sin caché\n",
    ")"
   ]
  },
  {
   "cell_type": "code",
   "execution_count": 38,
   "id": "6584abda-8cf2-4309-ac62-8e362d7d25fd",
   "metadata": {},
   "outputs": [],
   "source": [
    "adata11.var_names_make_unique()"
   ]
  },
  {
   "cell_type": "code",
   "execution_count": 39,
   "id": "93383d5f-6d24-40a9-8150-2a30b6c417ca",
   "metadata": {},
   "outputs": [],
   "source": [
    "sc.pp.filter_genes(adata11, min_cells =10)\n",
    "sc.pp.filter_cells(adata11, min_genes =200)"
   ]
  },
  {
   "cell_type": "code",
   "execution_count": 40,
   "id": "0dd1d225-ed70-46db-9b22-20602d4ade18",
   "metadata": {},
   "outputs": [
    {
     "data": {
      "text/plain": [
       "AnnData object with n_obs × n_vars = 10303 × 23198\n",
       "    obs: 'n_genes'\n",
       "    var: 'gene_ids', 'n_cells'"
      ]
     },
     "execution_count": 40,
     "metadata": {},
     "output_type": "execute_result"
    }
   ],
   "source": [
    "adata11.var = adata11.var.drop(columns=['feature_types'])\n",
    "adata11.var_names_make_unique()\n",
    "adata11"
   ]
  },
  {
   "cell_type": "code",
   "execution_count": 41,
   "id": "152ecf67-802d-4e97-8ff1-ae9ea57c7fef",
   "metadata": {},
   "outputs": [
    {
     "name": "stdout",
     "output_type": "stream",
     "text": [
      "Descomprimido: /home/mcgonzalez/Servicio_Social/Data/HB_filtered/HB53_tumor_filtered_feature_bc_matrix/barcodes.tsv.gz\n",
      "Descomprimido: /home/mcgonzalez/Servicio_Social/Data/HB_filtered/HB53_tumor_filtered_feature_bc_matrix/features.tsv.gz\n",
      "Descomprimido: /home/mcgonzalez/Servicio_Social/Data/HB_filtered/HB53_tumor_filtered_feature_bc_matrix/matrix.mtx.gz\n"
     ]
    }
   ],
   "source": [
    "import gzip\n",
    "import shutil\n",
    "import os\n",
    "\n",
    "# Ruta base donde están los archivos\n",
    "base_path = \"/home/mcgonzalez/Servicio_Social/Data/HB_filtered/HB53_tumor_filtered_feature_bc_matrix\"\n",
    "\n",
    "# Archivos de entrada y salida\n",
    "files = [\n",
    "    \"barcodes.tsv.gz\",\n",
    "    \"features.tsv.gz\",\n",
    "    \"matrix.mtx.gz\",\n",
    "]\n",
    "\n",
    "# Descomprimir cada archivo\n",
    "for file in files:\n",
    "    input_path = os.path.join(base_path, file)\n",
    "    output_path = os.path.join(base_path, file.replace('.gz', ''))\n",
    "    with gzip.open(input_path, 'rb') as f_in:\n",
    "        with open(output_path, 'wb') as f_out:\n",
    "            shutil.copyfileobj(f_in, f_out)\n",
    "            print(f\"Descomprimido: {input_path}\")"
   ]
  },
  {
   "cell_type": "code",
   "execution_count": 42,
   "id": "f7f47ae2-2221-4314-ac97-cdd27c49e8c3",
   "metadata": {},
   "outputs": [],
   "source": [
    "adata12 = sc.read_10x_mtx(\n",
    "    \"/home/mcgonzalez/Servicio_Social/Data/HB_filtered/HB53_tumor_filtered_feature_bc_matrix\",\n",
    "    var_names=\"gene_symbols\",\n",
    "    cache=False  # Fuerza la lectura directa sin caché\n",
    ")"
   ]
  },
  {
   "cell_type": "code",
   "execution_count": 43,
   "id": "ee1ed4f6-0c94-4a48-b3f2-49bb57b4c7a3",
   "metadata": {},
   "outputs": [],
   "source": [
    "adata12 = sc.read_10x_mtx('HB53_tumor_filtered_feature_bc_matrix', var_names='gene_symbols')"
   ]
  },
  {
   "cell_type": "code",
   "execution_count": 44,
   "id": "cb10c280-34a2-434c-a924-173d4a590eb4",
   "metadata": {},
   "outputs": [],
   "source": [
    "adata12.var_names_make_unique()"
   ]
  },
  {
   "cell_type": "code",
   "execution_count": 45,
   "id": "a2e60796-347d-4ad2-bd1e-966e58d14aad",
   "metadata": {},
   "outputs": [],
   "source": [
    "sc.pp.filter_genes(adata12, min_cells =10)\n",
    "sc.pp.filter_cells(adata12, min_genes =200)"
   ]
  },
  {
   "cell_type": "code",
   "execution_count": 46,
   "id": "6f2d0d23-fac2-45e8-868f-30a0eaf02832",
   "metadata": {},
   "outputs": [
    {
     "data": {
      "text/plain": [
       "AnnData object with n_obs × n_vars = 12832 × 24324\n",
       "    obs: 'n_genes'\n",
       "    var: 'gene_ids', 'n_cells'"
      ]
     },
     "execution_count": 46,
     "metadata": {},
     "output_type": "execute_result"
    }
   ],
   "source": [
    "adata12.var = adata12.var.drop(columns=['feature_types'])\n",
    "adata12.var_names_make_unique()\n",
    "adata12"
   ]
  },
  {
   "cell_type": "markdown",
   "id": "2d76a8c7-c388-49b2-8609-5fec64866135",
   "metadata": {},
   "source": [
    "## <span style=\"color:navy\">1.3 Creación de archivos h5ad</span>"
   ]
  },
  {
   "cell_type": "code",
   "execution_count": 47,
   "id": "1e4ea4c1-e2ae-47c5-9965-f5b37ea37348",
   "metadata": {},
   "outputs": [
    {
     "data": {
      "text/plain": [
       "'/home/mcgonzalez/Servicio_Social/Data/HB_filtered'"
      ]
     },
     "execution_count": 47,
     "metadata": {},
     "output_type": "execute_result"
    }
   ],
   "source": [
    "pwd"
   ]
  },
  {
   "cell_type": "code",
   "execution_count": 48,
   "id": "1c7499a3-fd80-44aa-b2a8-28a00fb727d8",
   "metadata": {},
   "outputs": [
    {
     "name": "stdout",
     "output_type": "stream",
     "text": [
      "/home/mcgonzalez/Servicio_Social/Data/Inicial_h5ad\n"
     ]
    },
    {
     "name": "stderr",
     "output_type": "stream",
     "text": [
      "/home/mcgonzalez/miniconda3/envs/Servicio/lib/python3.10/site-packages/IPython/core/magics/osm.py:417: UserWarning: This is now an optional IPython functionality, setting dhist requires you to install the `pickleshare` library.\n",
      "  self.shell.db['dhist'] = compress_dhist(dhist)[-100:]\n"
     ]
    }
   ],
   "source": [
    "%cd /home/mcgonzalez/Servicio_Social/Data/Inicial_h5ad"
   ]
  },
  {
   "cell_type": "markdown",
   "id": "5e941b02-ef9e-4c01-b851-de8f59bce978",
   "metadata": {},
   "source": [
    "-----\n",
    "**`adata1.write_h5ad('control1')`** guarda el objeto `adata1` en un archivo en formato `.h5ad` donde `adata1` es un objeto del tipo `AnnData`; almacena la matriz de expresión génica junto con metadatos adicionales, `.write_h5ad('control1')` es un método del objeto `AnnData` que se usa para escribir y guardar el objeto en un archivo en el formato `.h5ad`; el formato `.h5ad` se basa en HDF5 (un formato de archivo para almacenar grandes cantidades de datos jerárquicamente) y está optimizado para datos de secuenciación de ARN de una sola célula, y `'control1'` es el nombre designado para el archivo de salida llamado `control1.h5ad`.\n",
    "\n",
    "**Nota:** el método `write_h5ad` agrega automáticamente la extensión `.h5ad` si no se proporciona."
   ]
  },
  {
   "cell_type": "code",
   "execution_count": 49,
   "id": "dad48699-4acb-4dc1-8b16-b94b80e31685",
   "metadata": {},
   "outputs": [],
   "source": [
    "adata6.write_h5ad('control6')"
   ]
  },
  {
   "cell_type": "code",
   "execution_count": 50,
   "id": "8e3c114a-a814-4277-ba2b-8543a8d1b4f2",
   "metadata": {},
   "outputs": [],
   "source": [
    "adata7.write_h5ad('control7')"
   ]
  },
  {
   "cell_type": "code",
   "execution_count": 51,
   "id": "79b7cb86-e792-4adc-b294-c51d896a4e47",
   "metadata": {},
   "outputs": [],
   "source": [
    "adata8.write_h5ad('tumor_s1')"
   ]
  },
  {
   "cell_type": "code",
   "execution_count": 52,
   "id": "f73e7489-9ac0-4324-81c5-7dfbb7532a9d",
   "metadata": {},
   "outputs": [],
   "source": [
    "adata9.write_h5ad('tumor_s2')"
   ]
  },
  {
   "cell_type": "code",
   "execution_count": 53,
   "id": "cbc18f84-90ab-4e5c-ae69-38533a8c7b82",
   "metadata": {},
   "outputs": [],
   "source": [
    "adata10.write_h5ad('tumor_s3')"
   ]
  },
  {
   "cell_type": "code",
   "execution_count": 54,
   "id": "9295212a-b814-40e1-a8ad-9ab04d9ba755",
   "metadata": {},
   "outputs": [],
   "source": [
    "adata11.write_h5ad('tumor_s4')"
   ]
  },
  {
   "cell_type": "code",
   "execution_count": 55,
   "id": "7424d79c-01ae-4175-8df1-065217648ce5",
   "metadata": {},
   "outputs": [],
   "source": [
    "adata12.write_h5ad('tumor_s5')"
   ]
  }
 ],
 "metadata": {
  "kernelspec": {
   "display_name": "Python (Servicio)",
   "language": "python",
   "name": "servicio"
  },
  "language_info": {
   "codemirror_mode": {
    "name": "ipython",
    "version": 3
   },
   "file_extension": ".py",
   "mimetype": "text/x-python",
   "name": "python",
   "nbconvert_exporter": "python",
   "pygments_lexer": "ipython3",
   "version": "3.10.16"
  }
 },
 "nbformat": 4,
 "nbformat_minor": 5
}
