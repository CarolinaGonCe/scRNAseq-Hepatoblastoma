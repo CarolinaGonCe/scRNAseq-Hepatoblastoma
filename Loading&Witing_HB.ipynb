{
 "cells": [
  {
   "cell_type": "markdown",
   "id": "617d1a1d-300e-4f72-beeb-71c95508b5aa",
   "metadata": {},
   "source": [
    "--------\n",
    "\n",
    "## <span style=\"color:cornflowerblue\"> 1. Loading and writing con muestras de pacientes con Hepatoblastoma (HB)</span>\n",
    "El presente análisis de secuenciación de una sola célula, se basa en los estudios de Wu PV, et. al. (Sep 12, 2024), *Single cell RNA sequencing of primary human hepatoblastoma tumoroids* y de \tMünter D., et al. (Feb 07, 2025), *Multiomic analysis uncovers a continuous spectrum of differentiation and Wnt-MDK-driven immune evasion in hepatoblastoma (snRNA-seq)* obtenidos a través del portal [Gene Expression Omnibus](https://www.ncbi.nlm.nih.gov/geo/) (GEO) donde: \n",
    "\n",
    "1. **Primer estudio:** Wu PV, et. al. (Sep 12, 2024) [Single cell RNA sequencing of primary human hepatoblastoma tumoroids](https://www.ncbi.nlm.nih.gov/geo/query/acc.cgi?acc=GSE233923), se descargaron los archivos de matriz 10X con un subconjunto de muestras: 10 muestras de tumor de hepatoblastoma con el tipo de archivo *tar.gz* (494.2 Mb).\n",
    "\n",
    "2. **Segundo estudio:** Sonya A MacParland et al. (June 19, 2024) [Multiomic analysis uncovers a continuous spectrum of differentiation and Wnt-MDK-driven immune evasion in hepatoblastoma (snRNA-seq)](https://www.ncbi.nlm.nih.gov/geo/query/acc.cgi?acc=GSE283205), se descargaron los archivos en formato *tar.gz* que contiene 5 archivos (83.6 Mb) correspondientes a muestras tumorales.\n",
    "\n",
    "Después de la descarga de los archivos y antes de preprocesar los datos, se limpian los datos para trabajar solo con el número de genes (n_genes), identificadores de genes y el número de células (n_cells).\n",
    "\n",
    "\n",
    "### <span style=\"color:navy\">1.0 Configuración del entorno y datos</span>\n",
    "\n",
    "Cargamos las librerias necesarias en Python. La API de Scanpy proporciona acceso a un conjunto completo de herramientas, que utiliza bibliotecas como NumPy y SciPy, mientras que Pandas facilita la importación de datos y gestiona las estructuras de datos, particularmente el módulo AnnData. Para las visualizaciones, se deben importar Matplotlib y Seaborn."
   ]
  },
  {
   "cell_type": "code",
   "execution_count": 1,
   "id": "73196707-37da-4b63-818d-55eee0661ebc",
   "metadata": {},
   "outputs": [
    {
     "name": "stderr",
     "output_type": "stream",
     "text": [
      "/home/mcgonzalez/miniconda3/envs/Servicio/lib/python3.10/site-packages/anndata/utils.py:429: FutureWarning: Importing read_csv from `anndata` is deprecated. Import anndata.io.read_csv instead.\n",
      "  warnings.warn(msg, FutureWarning)\n",
      "/home/mcgonzalez/miniconda3/envs/Servicio/lib/python3.10/site-packages/anndata/utils.py:429: FutureWarning: Importing read_loom from `anndata` is deprecated. Import anndata.io.read_loom instead.\n",
      "  warnings.warn(msg, FutureWarning)\n",
      "/home/mcgonzalez/miniconda3/envs/Servicio/lib/python3.10/site-packages/anndata/utils.py:429: FutureWarning: Importing read_text from `anndata` is deprecated. Import anndata.io.read_text instead.\n",
      "  warnings.warn(msg, FutureWarning)\n",
      "/home/mcgonzalez/miniconda3/envs/Servicio/lib/python3.10/site-packages/anndata/utils.py:429: FutureWarning: Importing CSCDataset from `anndata.experimental` is deprecated. Import anndata.abc.CSCDataset instead.\n",
      "  warnings.warn(msg, FutureWarning)\n",
      "/home/mcgonzalez/miniconda3/envs/Servicio/lib/python3.10/site-packages/anndata/utils.py:429: FutureWarning: Importing CSRDataset from `anndata.experimental` is deprecated. Import anndata.abc.CSRDataset instead.\n",
      "  warnings.warn(msg, FutureWarning)\n",
      "/home/mcgonzalez/miniconda3/envs/Servicio/lib/python3.10/site-packages/anndata/utils.py:429: FutureWarning: Importing read_elem from `anndata.experimental` is deprecated. Import anndata.io.read_elem instead.\n",
      "  warnings.warn(msg, FutureWarning)\n",
      "/home/mcgonzalez/miniconda3/envs/Servicio/lib/python3.10/site-packages/tqdm/auto.py:21: TqdmWarning: IProgress not found. Please update jupyter and ipywidgets. See https://ipywidgets.readthedocs.io/en/stable/user_install.html\n",
      "  from .autonotebook import tqdm as notebook_tqdm\n",
      "/home/mcgonzalez/miniconda3/envs/Servicio/lib/python3.10/site-packages/docrep/decorators.py:43: SyntaxWarning: 'param_categorical_covariate_keys' is not a valid key!\n",
      "  doc = func(self, args[0].__doc__, *args[1:], **kwargs)\n"
     ]
    }
   ],
   "source": [
    "#Para descargas\n",
    "import gdown, os, gzip, shutil\n",
    "\n",
    "# Gestión básica de datos y representación gráfica\n",
    "import pandas as pd\n",
    "import numpy as np\n",
    "from scipy import sparse\n",
    "import matplotlib.pyplot as plt\n",
    "import os\n",
    "\n",
    "# Scanpy fundamentals\n",
    "import anndata as ad\n",
    "import scanpy as sc\n",
    "import seaborn as sb\n",
    "\n",
    "# sc.settings.set_figure_params(dpi=200, frameon=False)\n",
    "sc.set_figure_params(figsize=(6, 6))\n",
    "import scvi"
   ]
  },
  {
   "cell_type": "code",
   "execution_count": 2,
   "id": "ab933483-c479-4e60-a558-7b1075834cb6",
   "metadata": {},
   "outputs": [
    {
     "name": "stdout",
     "output_type": "stream",
     "text": [
      "/home/mcgonzalez/Servicio_Social/Data/CellTypist_HB\n"
     ]
    },
    {
     "name": "stderr",
     "output_type": "stream",
     "text": [
      "/home/mcgonzalez/miniconda3/envs/Servicio/lib/python3.10/site-packages/IPython/core/magics/osm.py:417: UserWarning: This is now an optional IPython functionality, setting dhist requires you to install the `pickleshare` library.\n",
      "  self.shell.db['dhist'] = compress_dhist(dhist)[-100:]\n"
     ]
    }
   ],
   "source": [
    "%cd /home/mcgonzalez/Servicio_Social/Data/CellTypist_HB"
   ]
  },
  {
   "cell_type": "code",
   "execution_count": 3,
   "id": "c7f289f9-f129-431a-a8b5-9fa518481abd",
   "metadata": {},
   "outputs": [
    {
     "name": "stdout",
     "output_type": "stream",
     "text": [
      "Descomprimido: /home/mcgonzalez/Servicio_Social/Data/CellTypist_HB/GSM7439126_HB1/GSM7439126_HB1_barcodes.tsv.gz\n",
      "Descomprimido: /home/mcgonzalez/Servicio_Social/Data/CellTypist_HB/GSM7439126_HB1/GSM7439126_HB1_features.tsv.gz\n",
      "Descomprimido: /home/mcgonzalez/Servicio_Social/Data/CellTypist_HB/GSM7439126_HB1/GSM7439126_HB1_matrix.mtx.gz\n"
     ]
    }
   ],
   "source": [
    "import gzip\n",
    "import shutil\n",
    "import os\n",
    "\n",
    "# Ruta base donde están los archivos\n",
    "base_path = \"/home/mcgonzalez/Servicio_Social/Data/CellTypist_HB/GSM7439126_HB1\"\n",
    "\n",
    "# Archivos de entrada y salida\n",
    "files = [\n",
    "    \"GSM7439126_HB1_barcodes.tsv.gz\",\n",
    "    \"GSM7439126_HB1_features.tsv.gz\",\n",
    "    \"GSM7439126_HB1_matrix.mtx.gz\",\n",
    "]\n",
    "\n",
    "# Descomprimir cada archivo\n",
    "for file in files:\n",
    "    input_path = os.path.join(base_path, file)\n",
    "    output_path = os.path.join(base_path, file.replace('.gz', ''))\n",
    "    with gzip.open(input_path, 'rb') as f_in:\n",
    "        with open(output_path, 'wb') as f_out:\n",
    "            shutil.copyfileobj(f_in, f_out)\n",
    "            print(f\"Descomprimido: {input_path}\")"
   ]
  },
  {
   "cell_type": "code",
   "execution_count": 6,
   "id": "ad4c6a76-94b1-457a-a133-732c0298da2a",
   "metadata": {},
   "outputs": [],
   "source": [
    "adata_HB1 = sc.read_10x_mtx(\n",
    "    \"/home/mcgonzalez/Servicio_Social/Data/CellTypist_HB/GSM7439126_HB1\",\n",
    "    var_names=\"gene_symbols\",\n",
    "    cache=False,\n",
    "    prefix=\"GSM7439126_HB1_\"\n",
    ")"
   ]
  },
  {
   "cell_type": "code",
   "execution_count": 7,
   "id": "caf58503-d0b3-4b46-9ef0-3e4423facc79",
   "metadata": {},
   "outputs": [],
   "source": [
    "adata_HB1.var_names_make_unique()"
   ]
  },
  {
   "cell_type": "code",
   "execution_count": 8,
   "id": "804e0147-d13e-4037-9803-090ddb5c883c",
   "metadata": {},
   "outputs": [],
   "source": [
    "sc.pp.filter_genes(adata_HB1, min_cells =10)\n",
    "sc.pp.filter_cells(adata_HB1, min_genes =200)"
   ]
  },
  {
   "cell_type": "code",
   "execution_count": 9,
   "id": "67c60b2f-72e3-4f62-9485-be4f06e6d67e",
   "metadata": {},
   "outputs": [
    {
     "data": {
      "text/plain": [
       "AnnData object with n_obs × n_vars = 4340 × 15995\n",
       "    obs: 'n_genes'\n",
       "    var: 'gene_ids', 'n_cells'"
      ]
     },
     "execution_count": 9,
     "metadata": {},
     "output_type": "execute_result"
    }
   ],
   "source": [
    "adata_HB1.var = adata_HB1.var.drop(columns=['feature_types'])\n",
    "adata_HB1.var_names_make_unique()\n",
    "adata_HB1"
   ]
  },
  {
   "cell_type": "markdown",
   "id": "e1ede537-b68b-45fb-a386-722494f240aa",
   "metadata": {},
   "source": [
    "------------"
   ]
  },
  {
   "cell_type": "code",
   "execution_count": 10,
   "id": "026f4e66-9bee-49c0-945c-98109228d4e3",
   "metadata": {},
   "outputs": [
    {
     "name": "stdout",
     "output_type": "stream",
     "text": [
      "Descomprimido: /home/mcgonzalez/Servicio_Social/Data/CellTypist_HB/GSM7439127_HB4/GSM7439127_HB4_barcodes.tsv.gz\n",
      "Descomprimido: /home/mcgonzalez/Servicio_Social/Data/CellTypist_HB/GSM7439127_HB4/GSM7439127_HB4_features.tsv.gz\n",
      "Descomprimido: /home/mcgonzalez/Servicio_Social/Data/CellTypist_HB/GSM7439127_HB4/GSM7439127_HB4_matrix.mtx.gz\n"
     ]
    }
   ],
   "source": [
    "import gzip\n",
    "import shutil\n",
    "import os\n",
    "\n",
    "# Ruta base donde están los archivos\n",
    "base_path = \"/home/mcgonzalez/Servicio_Social/Data/CellTypist_HB/GSM7439127_HB4\"\n",
    "\n",
    "# Archivos de entrada y salida\n",
    "files = [\n",
    "    \"GSM7439127_HB4_barcodes.tsv.gz\",\n",
    "    \"GSM7439127_HB4_features.tsv.gz\",\n",
    "    \"GSM7439127_HB4_matrix.mtx.gz\",\n",
    "]\n",
    "\n",
    "# Descomprimir cada archivo\n",
    "for file in files:\n",
    "    input_path = os.path.join(base_path, file)\n",
    "    output_path = os.path.join(base_path, file.replace('.gz', ''))\n",
    "    with gzip.open(input_path, 'rb') as f_in:\n",
    "        with open(output_path, 'wb') as f_out:\n",
    "            shutil.copyfileobj(f_in, f_out)\n",
    "            print(f\"Descomprimido: {input_path}\")"
   ]
  },
  {
   "cell_type": "code",
   "execution_count": 11,
   "id": "f3c98132-c020-4c3a-81c5-d88a41f62443",
   "metadata": {},
   "outputs": [],
   "source": [
    "adata_HB4 = sc.read_10x_mtx(\n",
    "    \"/home/mcgonzalez/Servicio_Social/Data/CellTypist_HB/GSM7439127_HB4\",\n",
    "    var_names=\"gene_symbols\",\n",
    "    cache=False,\n",
    "    prefix=\"GSM7439127_HB4_\"\n",
    ")"
   ]
  },
  {
   "cell_type": "code",
   "execution_count": 12,
   "id": "9076f426-f3ba-460f-ac89-5facd22d800b",
   "metadata": {},
   "outputs": [],
   "source": [
    "adata_HB4.var_names_make_unique()"
   ]
  },
  {
   "cell_type": "code",
   "execution_count": 13,
   "id": "43db8a3b-7c0a-4b36-9837-098fa29f7982",
   "metadata": {},
   "outputs": [],
   "source": [
    "sc.pp.filter_genes(adata_HB4, min_cells =10)\n",
    "sc.pp.filter_cells(adata_HB4, min_genes =200)"
   ]
  },
  {
   "cell_type": "code",
   "execution_count": 14,
   "id": "e338f9fb-ed64-4b24-bdd8-3fa6f63d2560",
   "metadata": {},
   "outputs": [
    {
     "data": {
      "text/plain": [
       "AnnData object with n_obs × n_vars = 7856 × 17356\n",
       "    obs: 'n_genes'\n",
       "    var: 'gene_ids', 'n_cells'"
      ]
     },
     "execution_count": 14,
     "metadata": {},
     "output_type": "execute_result"
    }
   ],
   "source": [
    "adata_HB4.var = adata_HB4.var.drop(columns=['feature_types'])\n",
    "adata_HB4.var_names_make_unique()\n",
    "adata_HB4"
   ]
  },
  {
   "cell_type": "markdown",
   "id": "95c05d82-56b9-485b-b5f7-7b2177380d0e",
   "metadata": {},
   "source": [
    "------------"
   ]
  },
  {
   "cell_type": "code",
   "execution_count": 15,
   "id": "34dbe86b-79e4-4887-a99c-58fb3438441a",
   "metadata": {},
   "outputs": [
    {
     "name": "stdout",
     "output_type": "stream",
     "text": [
      "Descomprimido: /home/mcgonzalez/Servicio_Social/Data/CellTypist_HB/GSM7439128_HB6/GSM7439128_HB6_barcodes.tsv.gz\n",
      "Descomprimido: /home/mcgonzalez/Servicio_Social/Data/CellTypist_HB/GSM7439128_HB6/GSM7439128_HB6_features.tsv.gz\n",
      "Descomprimido: /home/mcgonzalez/Servicio_Social/Data/CellTypist_HB/GSM7439128_HB6/GSM7439128_HB6_matrix.mtx.gz\n"
     ]
    }
   ],
   "source": [
    "import gzip\n",
    "import shutil\n",
    "import os\n",
    "\n",
    "# Ruta base donde están los archivos\n",
    "base_path = \"/home/mcgonzalez/Servicio_Social/Data/CellTypist_HB/GSM7439128_HB6\"\n",
    "\n",
    "# Archivos de entrada y salida\n",
    "files = [\n",
    "    \"GSM7439128_HB6_barcodes.tsv.gz\",\n",
    "    \"GSM7439128_HB6_features.tsv.gz\",\n",
    "    \"GSM7439128_HB6_matrix.mtx.gz\",\n",
    "]\n",
    "\n",
    "# Descomprimir cada archivo\n",
    "for file in files:\n",
    "    input_path = os.path.join(base_path, file)\n",
    "    output_path = os.path.join(base_path, file.replace('.gz', ''))\n",
    "    with gzip.open(input_path, 'rb') as f_in:\n",
    "        with open(output_path, 'wb') as f_out:\n",
    "            shutil.copyfileobj(f_in, f_out)\n",
    "            print(f\"Descomprimido: {input_path}\")"
   ]
  },
  {
   "cell_type": "code",
   "execution_count": 16,
   "id": "8820e4e5-1e98-44d6-8da6-6db5be9cafeb",
   "metadata": {},
   "outputs": [],
   "source": [
    "adata_HB6 = sc.read_10x_mtx(\n",
    "    \"/home/mcgonzalez/Servicio_Social/Data/CellTypist_HB/GSM7439128_HB6\",\n",
    "    var_names=\"gene_symbols\",\n",
    "    cache=False,\n",
    "    prefix=\"GSM7439128_HB6_\"\n",
    ")"
   ]
  },
  {
   "cell_type": "code",
   "execution_count": 17,
   "id": "bc647f04-a74c-4b10-9a96-f2369ce20c32",
   "metadata": {},
   "outputs": [],
   "source": [
    "adata_HB6.var_names_make_unique()"
   ]
  },
  {
   "cell_type": "code",
   "execution_count": 18,
   "id": "ce0af29d-9636-477d-9ce5-7ba6de85ec38",
   "metadata": {},
   "outputs": [],
   "source": [
    "sc.pp.filter_genes(adata_HB6, min_cells =10)\n",
    "sc.pp.filter_cells(adata_HB6, min_genes =200)"
   ]
  },
  {
   "cell_type": "code",
   "execution_count": 19,
   "id": "dedda28c-b4c5-4941-aaf7-5e11a42d49b3",
   "metadata": {},
   "outputs": [
    {
     "data": {
      "text/plain": [
       "AnnData object with n_obs × n_vars = 4490 × 18295\n",
       "    obs: 'n_genes'\n",
       "    var: 'gene_ids', 'n_cells'"
      ]
     },
     "execution_count": 19,
     "metadata": {},
     "output_type": "execute_result"
    }
   ],
   "source": [
    "adata_HB6.var = adata_HB6.var.drop(columns=['feature_types'])\n",
    "adata_HB6.var_names_make_unique()\n",
    "adata_HB6"
   ]
  },
  {
   "cell_type": "markdown",
   "id": "3e5cf76d-2ba9-4044-bf5d-6b2d6eb5e4f4",
   "metadata": {},
   "source": [
    "-------------"
   ]
  },
  {
   "cell_type": "code",
   "execution_count": 20,
   "id": "b15f531d-da07-4990-b0a9-804dc96ad5b0",
   "metadata": {},
   "outputs": [
    {
     "name": "stdout",
     "output_type": "stream",
     "text": [
      "Descomprimido: /home/mcgonzalez/Servicio_Social/Data/CellTypist_HB/GSM7439129_HB7/GSM7439129_HB7_barcodes.tsv.gz\n",
      "Descomprimido: /home/mcgonzalez/Servicio_Social/Data/CellTypist_HB/GSM7439129_HB7/GSM7439129_HB7_features.tsv.gz\n",
      "Descomprimido: /home/mcgonzalez/Servicio_Social/Data/CellTypist_HB/GSM7439129_HB7/GSM7439129_HB7_matrix.mtx.gz\n"
     ]
    }
   ],
   "source": [
    "import gzip\n",
    "import shutil\n",
    "import os\n",
    "\n",
    "# Ruta base donde están los archivos\n",
    "base_path = \"/home/mcgonzalez/Servicio_Social/Data/CellTypist_HB/GSM7439129_HB7\"\n",
    "\n",
    "# Archivos de entrada y salida\n",
    "files = [\n",
    "    \"GSM7439129_HB7_barcodes.tsv.gz\",\n",
    "    \"GSM7439129_HB7_features.tsv.gz\",\n",
    "    \"GSM7439129_HB7_matrix.mtx.gz\",\n",
    "]\n",
    "\n",
    "# Descomprimir cada archivo\n",
    "for file in files:\n",
    "    input_path = os.path.join(base_path, file)\n",
    "    output_path = os.path.join(base_path, file.replace('.gz', ''))\n",
    "    with gzip.open(input_path, 'rb') as f_in:\n",
    "        with open(output_path, 'wb') as f_out:\n",
    "            shutil.copyfileobj(f_in, f_out)\n",
    "            print(f\"Descomprimido: {input_path}\")"
   ]
  },
  {
   "cell_type": "code",
   "execution_count": 22,
   "id": "fc906a1a-0671-4a27-8344-1219370d3438",
   "metadata": {},
   "outputs": [],
   "source": [
    "adata_HB7 = sc.read_10x_mtx(\n",
    "    \"/home/mcgonzalez/Servicio_Social/Data/CellTypist_HB/GSM7439129_HB7\",\n",
    "    var_names=\"gene_symbols\",\n",
    "    cache=False,\n",
    "    prefix=\"GSM7439129_HB7_\"\n",
    ")"
   ]
  },
  {
   "cell_type": "code",
   "execution_count": 23,
   "id": "ef2480a0-0fd2-41bf-9b8f-90f0214189e7",
   "metadata": {},
   "outputs": [],
   "source": [
    "adata_HB7.var_names_make_unique()"
   ]
  },
  {
   "cell_type": "code",
   "execution_count": 24,
   "id": "1458cd21-c4d4-41a5-8a70-2976bd7557fb",
   "metadata": {},
   "outputs": [],
   "source": [
    "sc.pp.filter_genes(adata_HB7, min_cells =10)\n",
    "sc.pp.filter_cells(adata_HB7, min_genes =200)"
   ]
  },
  {
   "cell_type": "code",
   "execution_count": 25,
   "id": "d370cc83-0c41-4d93-ab81-568bf92f14a4",
   "metadata": {},
   "outputs": [
    {
     "data": {
      "text/plain": [
       "AnnData object with n_obs × n_vars = 8378 × 18151\n",
       "    obs: 'n_genes'\n",
       "    var: 'gene_ids', 'n_cells'"
      ]
     },
     "execution_count": 25,
     "metadata": {},
     "output_type": "execute_result"
    }
   ],
   "source": [
    "adata_HB7.var = adata_HB7.var.drop(columns=['feature_types'])\n",
    "adata_HB7.var_names_make_unique()\n",
    "adata_HB7"
   ]
  },
  {
   "cell_type": "markdown",
   "id": "452809d5-88f8-4961-a51f-36d76d87779c",
   "metadata": {},
   "source": [
    "------------"
   ]
  },
  {
   "cell_type": "code",
   "execution_count": 26,
   "id": "3194e8dd-69a6-4d10-8e2d-60f3dcb4aa70",
   "metadata": {},
   "outputs": [
    {
     "name": "stdout",
     "output_type": "stream",
     "text": [
      "Descomprimido: /home/mcgonzalez/Servicio_Social/Data/CellTypist_HB/GSM7439130_HB12/GSM7439130_HB12_barcodes.tsv.gz\n",
      "Descomprimido: /home/mcgonzalez/Servicio_Social/Data/CellTypist_HB/GSM7439130_HB12/GSM7439130_HB12_features.tsv.gz\n",
      "Descomprimido: /home/mcgonzalez/Servicio_Social/Data/CellTypist_HB/GSM7439130_HB12/GSM7439130_HB12_matrix.mtx.gz\n"
     ]
    }
   ],
   "source": [
    "import gzip\n",
    "import shutil\n",
    "import os\n",
    "\n",
    "# Ruta base donde están los archivos\n",
    "base_path = \"/home/mcgonzalez/Servicio_Social/Data/CellTypist_HB/GSM7439130_HB12\"\n",
    "\n",
    "# Archivos de entrada y salida\n",
    "files = [\n",
    "    \"GSM7439130_HB12_barcodes.tsv.gz\",\n",
    "    \"GSM7439130_HB12_features.tsv.gz\",\n",
    "    \"GSM7439130_HB12_matrix.mtx.gz\",\n",
    "]\n",
    "\n",
    "# Descomprimir cada archivo\n",
    "for file in files:\n",
    "    input_path = os.path.join(base_path, file)\n",
    "    output_path = os.path.join(base_path, file.replace('.gz', ''))\n",
    "    with gzip.open(input_path, 'rb') as f_in:\n",
    "        with open(output_path, 'wb') as f_out:\n",
    "            shutil.copyfileobj(f_in, f_out)\n",
    "            print(f\"Descomprimido: {input_path}\")"
   ]
  },
  {
   "cell_type": "code",
   "execution_count": 27,
   "id": "c88bad60-7c1e-4a41-a503-d218a7140f9a",
   "metadata": {},
   "outputs": [],
   "source": [
    "adata_HB12 = sc.read_10x_mtx(\n",
    "    \"/home/mcgonzalez/Servicio_Social/Data/CellTypist_HB/GSM7439130_HB12\",\n",
    "    var_names=\"gene_symbols\",\n",
    "    cache=False,\n",
    "    prefix=\"GSM7439130_HB12_\"\n",
    ")"
   ]
  },
  {
   "cell_type": "code",
   "execution_count": 28,
   "id": "0eb2604e-8dc5-4b0a-bf34-751ebf201504",
   "metadata": {},
   "outputs": [],
   "source": [
    "adata_HB12.var_names_make_unique()"
   ]
  },
  {
   "cell_type": "code",
   "execution_count": 29,
   "id": "964712d6-376c-4707-952d-ae519cd7ac86",
   "metadata": {},
   "outputs": [],
   "source": [
    "sc.pp.filter_genes(adata_HB12, min_cells =10)\n",
    "sc.pp.filter_cells(adata_HB12, min_genes =200)"
   ]
  },
  {
   "cell_type": "code",
   "execution_count": 30,
   "id": "263837b2-9dec-427b-93b8-d6ba38c20d2a",
   "metadata": {},
   "outputs": [
    {
     "data": {
      "text/plain": [
       "AnnData object with n_obs × n_vars = 2318 × 15273\n",
       "    obs: 'n_genes'\n",
       "    var: 'gene_ids', 'n_cells'"
      ]
     },
     "execution_count": 30,
     "metadata": {},
     "output_type": "execute_result"
    }
   ],
   "source": [
    "adata_HB12.var = adata_HB12.var.drop(columns=['feature_types'])\n",
    "adata_HB12.var_names_make_unique()\n",
    "adata_HB12"
   ]
  },
  {
   "cell_type": "markdown",
   "id": "6d060383-a0a0-441a-89d9-51928553b740",
   "metadata": {},
   "source": [
    "--------------"
   ]
  },
  {
   "cell_type": "code",
   "execution_count": 31,
   "id": "19f473ba-388c-491c-8e18-bea08f63af68",
   "metadata": {},
   "outputs": [
    {
     "name": "stdout",
     "output_type": "stream",
     "text": [
      "Descomprimido: /home/mcgonzalez/Servicio_Social/Data/CellTypist_HB/GSM7439131_HB13/GSM7439131_HB13_barcodes.tsv.gz\n",
      "Descomprimido: /home/mcgonzalez/Servicio_Social/Data/CellTypist_HB/GSM7439131_HB13/GSM7439131_HB13_features.tsv.gz\n",
      "Descomprimido: /home/mcgonzalez/Servicio_Social/Data/CellTypist_HB/GSM7439131_HB13/GSM7439131_HB13_matrix.mtx.gz\n"
     ]
    }
   ],
   "source": [
    "import gzip\n",
    "import shutil\n",
    "import os\n",
    "\n",
    "# Ruta base donde están los archivos\n",
    "base_path = \"/home/mcgonzalez/Servicio_Social/Data/CellTypist_HB/GSM7439131_HB13\"\n",
    "\n",
    "# Archivos de entrada y salida\n",
    "files = [\n",
    "    \"GSM7439131_HB13_barcodes.tsv.gz\",\n",
    "    \"GSM7439131_HB13_features.tsv.gz\",\n",
    "    \"GSM7439131_HB13_matrix.mtx.gz\",\n",
    "]\n",
    "\n",
    "# Descomprimir cada archivo\n",
    "for file in files:\n",
    "    input_path = os.path.join(base_path, file)\n",
    "    output_path = os.path.join(base_path, file.replace('.gz', ''))\n",
    "    with gzip.open(input_path, 'rb') as f_in:\n",
    "        with open(output_path, 'wb') as f_out:\n",
    "            shutil.copyfileobj(f_in, f_out)\n",
    "            print(f\"Descomprimido: {input_path}\")"
   ]
  },
  {
   "cell_type": "code",
   "execution_count": 32,
   "id": "43faba97-18a4-436e-894d-9be080613483",
   "metadata": {},
   "outputs": [],
   "source": [
    "adata_HB13 = sc.read_10x_mtx(\n",
    "    \"/home/mcgonzalez/Servicio_Social/Data/CellTypist_HB/GSM7439131_HB13\",\n",
    "    var_names=\"gene_symbols\",\n",
    "    cache=False,\n",
    "    prefix=\"GSM7439131_HB13_\"\n",
    ")"
   ]
  },
  {
   "cell_type": "code",
   "execution_count": 33,
   "id": "48d5c41c-ff4c-4e14-9bd4-5475097f0939",
   "metadata": {},
   "outputs": [],
   "source": [
    "adata_HB13.var_names_make_unique()"
   ]
  },
  {
   "cell_type": "code",
   "execution_count": 34,
   "id": "01a6c3bc-46d9-4fab-9961-b44bfb6d2ba5",
   "metadata": {},
   "outputs": [],
   "source": [
    "sc.pp.filter_genes(adata_HB13, min_cells =10)\n",
    "sc.pp.filter_cells(adata_HB13, min_genes =200)"
   ]
  },
  {
   "cell_type": "code",
   "execution_count": 35,
   "id": "08483097-e655-4f85-8142-9f3635f89782",
   "metadata": {},
   "outputs": [
    {
     "data": {
      "text/plain": [
       "AnnData object with n_obs × n_vars = 3394 × 16009\n",
       "    obs: 'n_genes'\n",
       "    var: 'gene_ids', 'n_cells'"
      ]
     },
     "execution_count": 35,
     "metadata": {},
     "output_type": "execute_result"
    }
   ],
   "source": [
    "adata_HB13.var = adata_HB13.var.drop(columns=['feature_types'])\n",
    "adata_HB13.var_names_make_unique()\n",
    "adata_HB13"
   ]
  },
  {
   "cell_type": "markdown",
   "id": "0b0b4c0a-b74f-4d60-86b6-ca3a8a2cd627",
   "metadata": {},
   "source": [
    "----------------"
   ]
  },
  {
   "cell_type": "code",
   "execution_count": 36,
   "id": "3a2ecedc-ffe1-4bc9-b72b-cc613dcb3850",
   "metadata": {},
   "outputs": [
    {
     "name": "stdout",
     "output_type": "stream",
     "text": [
      "Descomprimido: /home/mcgonzalez/Servicio_Social/Data/CellTypist_HB/GSM7439132_HB14/GSM7439132_HB14_barcodes.tsv.gz\n",
      "Descomprimido: /home/mcgonzalez/Servicio_Social/Data/CellTypist_HB/GSM7439132_HB14/GSM7439132_HB14_features.tsv.gz\n",
      "Descomprimido: /home/mcgonzalez/Servicio_Social/Data/CellTypist_HB/GSM7439132_HB14/GSM7439132_HB14_matrix.mtx.gz\n"
     ]
    }
   ],
   "source": [
    "import gzip\n",
    "import shutil\n",
    "import os\n",
    "\n",
    "# Ruta base donde están los archivos\n",
    "base_path = \"/home/mcgonzalez/Servicio_Social/Data/CellTypist_HB/GSM7439132_HB14\"\n",
    "\n",
    "# Archivos de entrada y salida\n",
    "files = [\n",
    "    \"GSM7439132_HB14_barcodes.tsv.gz\",\n",
    "    \"GSM7439132_HB14_features.tsv.gz\",\n",
    "    \"GSM7439132_HB14_matrix.mtx.gz\",\n",
    "]\n",
    "\n",
    "# Descomprimir cada archivo\n",
    "for file in files:\n",
    "    input_path = os.path.join(base_path, file)\n",
    "    output_path = os.path.join(base_path, file.replace('.gz', ''))\n",
    "    with gzip.open(input_path, 'rb') as f_in:\n",
    "        with open(output_path, 'wb') as f_out:\n",
    "            shutil.copyfileobj(f_in, f_out)\n",
    "            print(f\"Descomprimido: {input_path}\")"
   ]
  },
  {
   "cell_type": "code",
   "execution_count": 37,
   "id": "db4e1b50-7c4d-4b80-aea1-0cfc6b686846",
   "metadata": {},
   "outputs": [],
   "source": [
    "adata_HB14 = sc.read_10x_mtx(\n",
    "    \"/home/mcgonzalez/Servicio_Social/Data/CellTypist_HB/GSM7439132_HB14\",\n",
    "    var_names=\"gene_symbols\",\n",
    "    cache=False,\n",
    "    prefix=\"GSM7439132_HB14_\"\n",
    ")"
   ]
  },
  {
   "cell_type": "code",
   "execution_count": 38,
   "id": "5df10095-d32e-45a8-a000-f437d8bd9284",
   "metadata": {},
   "outputs": [],
   "source": [
    "adata_HB14.var_names_make_unique()"
   ]
  },
  {
   "cell_type": "code",
   "execution_count": 39,
   "id": "d042f897-64fb-481d-957c-6b7ea382e939",
   "metadata": {},
   "outputs": [],
   "source": [
    "sc.pp.filter_genes(adata_HB14, min_cells =10)\n",
    "sc.pp.filter_cells(adata_HB14, min_genes =200)"
   ]
  },
  {
   "cell_type": "code",
   "execution_count": 40,
   "id": "b699b34e-b09c-46c1-a967-5c3b2202933b",
   "metadata": {},
   "outputs": [
    {
     "data": {
      "text/plain": [
       "AnnData object with n_obs × n_vars = 4870 × 13891\n",
       "    obs: 'n_genes'\n",
       "    var: 'gene_ids', 'n_cells'"
      ]
     },
     "execution_count": 40,
     "metadata": {},
     "output_type": "execute_result"
    }
   ],
   "source": [
    "adata_HB14.var = adata_HB14.var.drop(columns=['feature_types'])\n",
    "adata_HB14.var_names_make_unique()\n",
    "adata_HB14"
   ]
  },
  {
   "cell_type": "markdown",
   "id": "a4f27cf3-625b-4aa6-802f-ac8f2e8888d5",
   "metadata": {},
   "source": [
    "------------"
   ]
  },
  {
   "cell_type": "code",
   "execution_count": 41,
   "id": "5837df8e-8289-45bc-8a52-444148bb9a9a",
   "metadata": {},
   "outputs": [
    {
     "name": "stdout",
     "output_type": "stream",
     "text": [
      "Descomprimido: /home/mcgonzalez/Servicio_Social/Data/CellTypist_HB/GSM7439133_HB15/GSM7439133_HB15_barcodes.tsv.gz\n",
      "Descomprimido: /home/mcgonzalez/Servicio_Social/Data/CellTypist_HB/GSM7439133_HB15/GSM7439133_HB15_features.tsv.gz\n",
      "Descomprimido: /home/mcgonzalez/Servicio_Social/Data/CellTypist_HB/GSM7439133_HB15/GSM7439133_HB15_matrix.mtx.gz\n"
     ]
    }
   ],
   "source": [
    "import gzip\n",
    "import shutil\n",
    "import os\n",
    "\n",
    "# Ruta base donde están los archivos\n",
    "base_path = \"/home/mcgonzalez/Servicio_Social/Data/CellTypist_HB/GSM7439133_HB15\"\n",
    "\n",
    "# Archivos de entrada y salida\n",
    "files = [\n",
    "    \"GSM7439133_HB15_barcodes.tsv.gz\",\n",
    "    \"GSM7439133_HB15_features.tsv.gz\",\n",
    "    \"GSM7439133_HB15_matrix.mtx.gz\",\n",
    "]\n",
    "\n",
    "# Descomprimir cada archivo\n",
    "for file in files:\n",
    "    input_path = os.path.join(base_path, file)\n",
    "    output_path = os.path.join(base_path, file.replace('.gz', ''))\n",
    "    with gzip.open(input_path, 'rb') as f_in:\n",
    "        with open(output_path, 'wb') as f_out:\n",
    "            shutil.copyfileobj(f_in, f_out)\n",
    "            print(f\"Descomprimido: {input_path}\")"
   ]
  },
  {
   "cell_type": "code",
   "execution_count": 42,
   "id": "b8c6485f-c696-417e-ba14-094ccc873321",
   "metadata": {},
   "outputs": [],
   "source": [
    "adata_HB15 = sc.read_10x_mtx(\n",
    "    \"/home/mcgonzalez/Servicio_Social/Data/CellTypist_HB/GSM7439133_HB15\",\n",
    "    var_names=\"gene_symbols\",\n",
    "    cache=False,\n",
    "    prefix=\"GSM7439133_HB15_\"\n",
    ")"
   ]
  },
  {
   "cell_type": "code",
   "execution_count": 43,
   "id": "d0cdcd36-90d0-488f-a89c-10f3471b4f63",
   "metadata": {},
   "outputs": [],
   "source": [
    "adata_HB15.var_names_make_unique()"
   ]
  },
  {
   "cell_type": "code",
   "execution_count": 44,
   "id": "098adb22-5de1-45ff-a5e8-12abe926e32b",
   "metadata": {},
   "outputs": [],
   "source": [
    "sc.pp.filter_genes(adata_HB15, min_cells =10)\n",
    "sc.pp.filter_cells(adata_HB15, min_genes =200)"
   ]
  },
  {
   "cell_type": "code",
   "execution_count": 45,
   "id": "36f124d8-177b-48ca-b8dc-8bff8b1e2144",
   "metadata": {},
   "outputs": [
    {
     "data": {
      "text/plain": [
       "AnnData object with n_obs × n_vars = 2704 × 16179\n",
       "    obs: 'n_genes'\n",
       "    var: 'gene_ids', 'n_cells'"
      ]
     },
     "execution_count": 45,
     "metadata": {},
     "output_type": "execute_result"
    }
   ],
   "source": [
    "adata_HB15.var = adata_HB15.var.drop(columns=['feature_types'])\n",
    "adata_HB15.var_names_make_unique()\n",
    "adata_HB15"
   ]
  },
  {
   "cell_type": "markdown",
   "id": "d52c9275-e750-4f46-bc27-fb5a3809eb72",
   "metadata": {},
   "source": [
    "------------------"
   ]
  },
  {
   "cell_type": "code",
   "execution_count": 46,
   "id": "4f213207-be1e-4777-9e77-ec71263b7d4d",
   "metadata": {},
   "outputs": [
    {
     "name": "stdout",
     "output_type": "stream",
     "text": [
      "Descomprimido: /home/mcgonzalez/Servicio_Social/Data/CellTypist_HB/GSM7439134_HB16/GSM7439134_HB16_barcodes.tsv.gz\n",
      "Descomprimido: /home/mcgonzalez/Servicio_Social/Data/CellTypist_HB/GSM7439134_HB16/GSM7439134_HB16_features.tsv.gz\n",
      "Descomprimido: /home/mcgonzalez/Servicio_Social/Data/CellTypist_HB/GSM7439134_HB16/GSM7439134_HB16_matrix.mtx.gz\n"
     ]
    }
   ],
   "source": [
    "import gzip\n",
    "import shutil\n",
    "import os\n",
    "\n",
    "# Ruta base donde están los archivos\n",
    "base_path = \"/home/mcgonzalez/Servicio_Social/Data/CellTypist_HB/GSM7439134_HB16\"\n",
    "\n",
    "# Archivos de entrada y salida\n",
    "files = [\n",
    "    \"GSM7439134_HB16_barcodes.tsv.gz\",\n",
    "    \"GSM7439134_HB16_features.tsv.gz\",\n",
    "    \"GSM7439134_HB16_matrix.mtx.gz\",\n",
    "]\n",
    "\n",
    "# Descomprimir cada archivo\n",
    "for file in files:\n",
    "    input_path = os.path.join(base_path, file)\n",
    "    output_path = os.path.join(base_path, file.replace('.gz', ''))\n",
    "    with gzip.open(input_path, 'rb') as f_in:\n",
    "        with open(output_path, 'wb') as f_out:\n",
    "            shutil.copyfileobj(f_in, f_out)\n",
    "            print(f\"Descomprimido: {input_path}\")"
   ]
  },
  {
   "cell_type": "code",
   "execution_count": 47,
   "id": "d40c332f-bd45-44b2-a091-7a00ec2bdf6e",
   "metadata": {},
   "outputs": [],
   "source": [
    "adata_HB16 = sc.read_10x_mtx(\n",
    "    \"/home/mcgonzalez/Servicio_Social/Data/CellTypist_HB/GSM7439134_HB16\",\n",
    "    var_names=\"gene_symbols\",\n",
    "    cache=False,\n",
    "    prefix=\"GSM7439134_HB16_\"\n",
    ")"
   ]
  },
  {
   "cell_type": "code",
   "execution_count": 48,
   "id": "03860eb9-5a9a-4907-85d0-8f72553c1864",
   "metadata": {},
   "outputs": [],
   "source": [
    "adata_HB16.var_names_make_unique()"
   ]
  },
  {
   "cell_type": "code",
   "execution_count": 49,
   "id": "d25d482e-fe98-4a6d-9e94-57e8d9285fb7",
   "metadata": {},
   "outputs": [],
   "source": [
    "sc.pp.filter_genes(adata_HB16, min_cells =10)\n",
    "sc.pp.filter_cells(adata_HB16, min_genes =200)"
   ]
  },
  {
   "cell_type": "code",
   "execution_count": 50,
   "id": "d3eb867f-aae8-4698-a0cb-62ff68cb0688",
   "metadata": {},
   "outputs": [
    {
     "data": {
      "text/plain": [
       "AnnData object with n_obs × n_vars = 2869 × 16014\n",
       "    obs: 'n_genes'\n",
       "    var: 'gene_ids', 'n_cells'"
      ]
     },
     "execution_count": 50,
     "metadata": {},
     "output_type": "execute_result"
    }
   ],
   "source": [
    "adata_HB16.var = adata_HB16.var.drop(columns=['feature_types'])\n",
    "adata_HB16.var_names_make_unique()\n",
    "adata_HB16"
   ]
  },
  {
   "cell_type": "markdown",
   "id": "45d9c40c-210a-49a6-9053-767bf7dafed1",
   "metadata": {},
   "source": [
    "-----------------"
   ]
  },
  {
   "cell_type": "code",
   "execution_count": 51,
   "id": "415187d2-8387-4b1f-b7ed-69a883ef4332",
   "metadata": {},
   "outputs": [
    {
     "name": "stdout",
     "output_type": "stream",
     "text": [
      "Descomprimido: /home/mcgonzalez/Servicio_Social/Data/CellTypist_HB/GSM7439135_HB17/GSM7439135_HB17_barcodes.tsv.gz\n",
      "Descomprimido: /home/mcgonzalez/Servicio_Social/Data/CellTypist_HB/GSM7439135_HB17/GSM7439135_HB17_features.tsv.gz\n",
      "Descomprimido: /home/mcgonzalez/Servicio_Social/Data/CellTypist_HB/GSM7439135_HB17/GSM7439135_HB17_matrix.mtx.gz\n"
     ]
    }
   ],
   "source": [
    "import gzip\n",
    "import shutil\n",
    "import os\n",
    "\n",
    "# Ruta base donde están los archivos\n",
    "base_path = \"/home/mcgonzalez/Servicio_Social/Data/CellTypist_HB/GSM7439135_HB17\"\n",
    "\n",
    "# Archivos de entrada y salida\n",
    "files = [\n",
    "    \"GSM7439135_HB17_barcodes.tsv.gz\",\n",
    "    \"GSM7439135_HB17_features.tsv.gz\",\n",
    "    \"GSM7439135_HB17_matrix.mtx.gz\",\n",
    "]\n",
    "\n",
    "# Descomprimir cada archivo\n",
    "for file in files:\n",
    "    input_path = os.path.join(base_path, file)\n",
    "    output_path = os.path.join(base_path, file.replace('.gz', ''))\n",
    "    with gzip.open(input_path, 'rb') as f_in:\n",
    "        with open(output_path, 'wb') as f_out:\n",
    "            shutil.copyfileobj(f_in, f_out)\n",
    "            print(f\"Descomprimido: {input_path}\")"
   ]
  },
  {
   "cell_type": "code",
   "execution_count": 52,
   "id": "439344dc-1a3e-4b62-aa99-19c84aae62ae",
   "metadata": {},
   "outputs": [],
   "source": [
    "adata_HB17 = sc.read_10x_mtx(\n",
    "    \"/home/mcgonzalez/Servicio_Social/Data/CellTypist_HB/GSM7439135_HB17\",\n",
    "    var_names=\"gene_symbols\",\n",
    "    cache=False,\n",
    "    prefix=\"GSM7439135_HB17_\"\n",
    ")"
   ]
  },
  {
   "cell_type": "code",
   "execution_count": 53,
   "id": "3c1f1f52-759c-4578-b67c-aeff30ca9593",
   "metadata": {},
   "outputs": [],
   "source": [
    "adata_HB17.var_names_make_unique()"
   ]
  },
  {
   "cell_type": "code",
   "execution_count": 54,
   "id": "6b43ee51-4223-4341-8ac0-a9c18999a680",
   "metadata": {},
   "outputs": [],
   "source": [
    "sc.pp.filter_genes(adata_HB17, min_cells =10)\n",
    "sc.pp.filter_cells(adata_HB17, min_genes =200)"
   ]
  },
  {
   "cell_type": "code",
   "execution_count": 55,
   "id": "133c90e5-2a5d-4e90-8395-0f402228a868",
   "metadata": {},
   "outputs": [
    {
     "data": {
      "text/plain": [
       "AnnData object with n_obs × n_vars = 1420 × 16081\n",
       "    obs: 'n_genes'\n",
       "    var: 'gene_ids', 'n_cells'"
      ]
     },
     "execution_count": 55,
     "metadata": {},
     "output_type": "execute_result"
    }
   ],
   "source": [
    "adata_HB17.var = adata_HB17.var.drop(columns=['feature_types'])\n",
    "adata_HB17.var_names_make_unique()\n",
    "adata_HB17"
   ]
  },
  {
   "cell_type": "markdown",
   "id": "69d27a2a-28d7-4b40-a8d6-26fdd532dfc1",
   "metadata": {},
   "source": [
    "---------------"
   ]
  },
  {
   "cell_type": "code",
   "execution_count": 56,
   "id": "42660f1c-eda6-44d2-b3ac-4b826ae21686",
   "metadata": {},
   "outputs": [
    {
     "name": "stdout",
     "output_type": "stream",
     "text": [
      "Descomprimido: /home/mcgonzalez/Servicio_Social/Data/CellTypist_HB/GSM8657808_H678/GSM8657808_H678_barcodes.tsv.gz\n",
      "Descomprimido: /home/mcgonzalez/Servicio_Social/Data/CellTypist_HB/GSM8657808_H678/GSM8657808_H678_features.tsv.gz\n",
      "Descomprimido: /home/mcgonzalez/Servicio_Social/Data/CellTypist_HB/GSM8657808_H678/GSM8657808_H678_matrix.mtx.gz\n"
     ]
    }
   ],
   "source": [
    "import gzip\n",
    "import shutil\n",
    "import os\n",
    "\n",
    "# Ruta base donde están los archivos\n",
    "base_path = \"/home/mcgonzalez/Servicio_Social/Data/CellTypist_HB/GSM8657808_H678\"\n",
    "\n",
    "# Archivos de entrada y salida\n",
    "files = [\n",
    "    \"GSM8657808_H678_barcodes.tsv.gz\",\n",
    "    \"GSM8657808_H678_features.tsv.gz\",\n",
    "    \"GSM8657808_H678_matrix.mtx.gz\",\n",
    "]\n",
    "\n",
    "# Descomprimir cada archivo\n",
    "for file in files:\n",
    "    input_path = os.path.join(base_path, file)\n",
    "    output_path = os.path.join(base_path, file.replace('.gz', ''))\n",
    "    with gzip.open(input_path, 'rb') as f_in:\n",
    "        with open(output_path, 'wb') as f_out:\n",
    "            shutil.copyfileobj(f_in, f_out)\n",
    "            print(f\"Descomprimido: {input_path}\")"
   ]
  },
  {
   "cell_type": "code",
   "execution_count": 57,
   "id": "32e3d313-5294-4647-bb18-6eea88658c4b",
   "metadata": {},
   "outputs": [],
   "source": [
    "adata_HB78 = sc.read_10x_mtx(\n",
    "    \"/home/mcgonzalez/Servicio_Social/Data/CellTypist_HB/GSM8657808_H678\",\n",
    "    var_names=\"gene_symbols\",\n",
    "    cache=False,\n",
    "    prefix=\"GSM8657808_H678_\"\n",
    ")"
   ]
  },
  {
   "cell_type": "code",
   "execution_count": 58,
   "id": "6d852fbb-e7dc-4363-a901-3de43f4f268f",
   "metadata": {},
   "outputs": [],
   "source": [
    "adata_HB78.var_names_make_unique()"
   ]
  },
  {
   "cell_type": "code",
   "execution_count": 59,
   "id": "6c3abe14-e0d7-4055-a3fe-3a1840452a32",
   "metadata": {},
   "outputs": [],
   "source": [
    "sc.pp.filter_genes(adata_HB78, min_cells =10)\n",
    "sc.pp.filter_cells(adata_HB78, min_genes =200)"
   ]
  },
  {
   "cell_type": "code",
   "execution_count": 60,
   "id": "a87cf083-0a60-4703-a697-2f66f92e98ba",
   "metadata": {},
   "outputs": [
    {
     "data": {
      "text/plain": [
       "AnnData object with n_obs × n_vars = 1601 × 12251\n",
       "    obs: 'n_genes'\n",
       "    var: 'gene_ids', 'n_cells'"
      ]
     },
     "execution_count": 60,
     "metadata": {},
     "output_type": "execute_result"
    }
   ],
   "source": [
    "adata_HB78.var = adata_HB78.var.drop(columns=['feature_types'])\n",
    "adata_HB78.var_names_make_unique()\n",
    "adata_HB78"
   ]
  },
  {
   "cell_type": "markdown",
   "id": "fa561c88-f587-4c01-9f0c-d4eb4b873a8c",
   "metadata": {},
   "source": [
    "----------------"
   ]
  },
  {
   "cell_type": "code",
   "execution_count": 61,
   "id": "88643a6c-3dee-44e0-a6ab-a61e5adae30d",
   "metadata": {},
   "outputs": [
    {
     "name": "stdout",
     "output_type": "stream",
     "text": [
      "Descomprimido: /home/mcgonzalez/Servicio_Social/Data/CellTypist_HB/GSM8657809_H679/GSM8657809_H679_barcodes.tsv.gz\n",
      "Descomprimido: /home/mcgonzalez/Servicio_Social/Data/CellTypist_HB/GSM8657809_H679/GSM8657809_H679_features.tsv.gz\n",
      "Descomprimido: /home/mcgonzalez/Servicio_Social/Data/CellTypist_HB/GSM8657809_H679/GSM8657809_H679_matrix.mtx.gz\n"
     ]
    }
   ],
   "source": [
    "import gzip\n",
    "import shutil\n",
    "import os\n",
    "\n",
    "# Ruta base donde están los archivos\n",
    "base_path = \"/home/mcgonzalez/Servicio_Social/Data/CellTypist_HB/GSM8657809_H679\"\n",
    "\n",
    "# Archivos de entrada y salida\n",
    "files = [\n",
    "    \"GSM8657809_H679_barcodes.tsv.gz\",\n",
    "    \"GSM8657809_H679_features.tsv.gz\",\n",
    "    \"GSM8657809_H679_matrix.mtx.gz\",\n",
    "]\n",
    "\n",
    "# Descomprimir cada archivo\n",
    "for file in files:\n",
    "    input_path = os.path.join(base_path, file)\n",
    "    output_path = os.path.join(base_path, file.replace('.gz', ''))\n",
    "    with gzip.open(input_path, 'rb') as f_in:\n",
    "        with open(output_path, 'wb') as f_out:\n",
    "            shutil.copyfileobj(f_in, f_out)\n",
    "            print(f\"Descomprimido: {input_path}\")"
   ]
  },
  {
   "cell_type": "code",
   "execution_count": 62,
   "id": "faa88314-3250-4fc5-b4f8-122b68de2fa8",
   "metadata": {},
   "outputs": [],
   "source": [
    "adata_HB79 = sc.read_10x_mtx(\n",
    "    \"/home/mcgonzalez/Servicio_Social/Data/CellTypist_HB/GSM8657809_H679\",\n",
    "    var_names=\"gene_symbols\",\n",
    "    cache=False,\n",
    "    prefix=\"GSM8657809_H679_\"\n",
    ")"
   ]
  },
  {
   "cell_type": "code",
   "execution_count": 63,
   "id": "6fa64114-fe8c-49a8-8e3b-4a328e365beb",
   "metadata": {},
   "outputs": [],
   "source": [
    "adata_HB79.var_names_make_unique()"
   ]
  },
  {
   "cell_type": "code",
   "execution_count": 64,
   "id": "9037888c-7d6a-482e-a28a-b252f71ed71b",
   "metadata": {},
   "outputs": [],
   "source": [
    "sc.pp.filter_genes(adata_HB79, min_cells =10)\n",
    "sc.pp.filter_cells(adata_HB79, min_genes =200)"
   ]
  },
  {
   "cell_type": "code",
   "execution_count": 65,
   "id": "02a6e21d-9986-4292-b0b5-05a1aead3739",
   "metadata": {},
   "outputs": [
    {
     "data": {
      "text/plain": [
       "AnnData object with n_obs × n_vars = 3568 × 13658\n",
       "    obs: 'n_genes'\n",
       "    var: 'gene_ids', 'n_cells'"
      ]
     },
     "execution_count": 65,
     "metadata": {},
     "output_type": "execute_result"
    }
   ],
   "source": [
    "adata_HB79.var = adata_HB79.var.drop(columns=['feature_types'])\n",
    "adata_HB79.var_names_make_unique()\n",
    "adata_HB79"
   ]
  },
  {
   "cell_type": "markdown",
   "id": "7f23d242-6495-4b91-8a1c-0643da1d1981",
   "metadata": {},
   "source": [
    "--------------"
   ]
  },
  {
   "cell_type": "code",
   "execution_count": 66,
   "id": "40e4ee40-aa74-4998-83ad-66edd12d5c70",
   "metadata": {},
   "outputs": [
    {
     "name": "stdout",
     "output_type": "stream",
     "text": [
      "Descomprimido: /home/mcgonzalez/Servicio_Social/Data/CellTypist_HB/GSM8657810_H691/GSM8657810_H691_barcodes.tsv.gz\n",
      "Descomprimido: /home/mcgonzalez/Servicio_Social/Data/CellTypist_HB/GSM8657810_H691/GSM8657810_H691_features.tsv.gz\n",
      "Descomprimido: /home/mcgonzalez/Servicio_Social/Data/CellTypist_HB/GSM8657810_H691/GSM8657810_H691_matrix.mtx.gz\n"
     ]
    }
   ],
   "source": [
    "import gzip\n",
    "import shutil\n",
    "import os\n",
    "\n",
    "# Ruta base donde están los archivos\n",
    "base_path = \"/home/mcgonzalez/Servicio_Social/Data/CellTypist_HB/GSM8657810_H691\"\n",
    "\n",
    "# Archivos de entrada y salida\n",
    "files = [\n",
    "    \"GSM8657810_H691_barcodes.tsv.gz\",\n",
    "    \"GSM8657810_H691_features.tsv.gz\",\n",
    "    \"GSM8657810_H691_matrix.mtx.gz\",\n",
    "]\n",
    "\n",
    "# Descomprimir cada archivo\n",
    "for file in files:\n",
    "    input_path = os.path.join(base_path, file)\n",
    "    output_path = os.path.join(base_path, file.replace('.gz', ''))\n",
    "    with gzip.open(input_path, 'rb') as f_in:\n",
    "        with open(output_path, 'wb') as f_out:\n",
    "            shutil.copyfileobj(f_in, f_out)\n",
    "            print(f\"Descomprimido: {input_path}\")"
   ]
  },
  {
   "cell_type": "code",
   "execution_count": 67,
   "id": "09c68309-727c-458b-a201-35bdd4d5cb3d",
   "metadata": {},
   "outputs": [],
   "source": [
    "adata_HB91 = sc.read_10x_mtx(\n",
    "    \"/home/mcgonzalez/Servicio_Social/Data/CellTypist_HB/GSM8657810_H691\",\n",
    "    var_names=\"gene_symbols\",\n",
    "    cache=False,\n",
    "    prefix=\"GSM8657810_H691_\"\n",
    ")"
   ]
  },
  {
   "cell_type": "code",
   "execution_count": 68,
   "id": "5822e12b-fe64-46fe-b72a-321cd3d6b1fb",
   "metadata": {},
   "outputs": [],
   "source": [
    "adata_HB91.var_names_make_unique()"
   ]
  },
  {
   "cell_type": "code",
   "execution_count": 69,
   "id": "5dd8ffe2-731f-41db-b731-a9dc70d0d0fc",
   "metadata": {},
   "outputs": [],
   "source": [
    "sc.pp.filter_genes(adata_HB91, min_cells =10)\n",
    "sc.pp.filter_cells(adata_HB91, min_genes =200)"
   ]
  },
  {
   "cell_type": "code",
   "execution_count": 70,
   "id": "9d940262-8570-47e4-9e8e-2988eabbf633",
   "metadata": {},
   "outputs": [
    {
     "data": {
      "text/plain": [
       "AnnData object with n_obs × n_vars = 7291 × 15158\n",
       "    obs: 'n_genes'\n",
       "    var: 'gene_ids', 'n_cells'"
      ]
     },
     "execution_count": 70,
     "metadata": {},
     "output_type": "execute_result"
    }
   ],
   "source": [
    "adata_HB91.var = adata_HB91.var.drop(columns=['feature_types'])\n",
    "adata_HB91.var_names_make_unique()\n",
    "adata_HB91"
   ]
  },
  {
   "cell_type": "markdown",
   "id": "53d38d2e-8639-43db-aba7-0e2cbf4e8322",
   "metadata": {},
   "source": [
    "-----------"
   ]
  },
  {
   "cell_type": "code",
   "execution_count": 71,
   "id": "36a38e6f-4314-4f4b-b327-a11b1d373a59",
   "metadata": {},
   "outputs": [
    {
     "name": "stdout",
     "output_type": "stream",
     "text": [
      "Descomprimido: /home/mcgonzalez/Servicio_Social/Data/CellTypist_HB/GSM8657811_H692/GSM8657811_H692_barcodes.tsv.gz\n",
      "Descomprimido: /home/mcgonzalez/Servicio_Social/Data/CellTypist_HB/GSM8657811_H692/GSM8657811_H692_features.tsv.gz\n",
      "Descomprimido: /home/mcgonzalez/Servicio_Social/Data/CellTypist_HB/GSM8657811_H692/GSM8657811_H692_matrix.mtx.gz\n"
     ]
    }
   ],
   "source": [
    "import gzip\n",
    "import shutil\n",
    "import os\n",
    "\n",
    "# Ruta base donde están los archivos\n",
    "base_path = \"/home/mcgonzalez/Servicio_Social/Data/CellTypist_HB/GSM8657811_H692\"\n",
    "\n",
    "# Archivos de entrada y salida\n",
    "files = [\n",
    "    \"GSM8657811_H692_barcodes.tsv.gz\",\n",
    "    \"GSM8657811_H692_features.tsv.gz\",\n",
    "    \"GSM8657811_H692_matrix.mtx.gz\",\n",
    "]\n",
    "\n",
    "# Descomprimir cada archivo\n",
    "for file in files:\n",
    "    input_path = os.path.join(base_path, file)\n",
    "    output_path = os.path.join(base_path, file.replace('.gz', ''))\n",
    "    with gzip.open(input_path, 'rb') as f_in:\n",
    "        with open(output_path, 'wb') as f_out:\n",
    "            shutil.copyfileobj(f_in, f_out)\n",
    "            print(f\"Descomprimido: {input_path}\")"
   ]
  },
  {
   "cell_type": "code",
   "execution_count": 72,
   "id": "7f9ae5e1-6068-4b77-a76b-d8506b3d9b6c",
   "metadata": {},
   "outputs": [],
   "source": [
    "adata_HB92 = sc.read_10x_mtx(\n",
    "    \"/home/mcgonzalez/Servicio_Social/Data/CellTypist_HB/GSM8657811_H692\",\n",
    "    var_names=\"gene_symbols\",\n",
    "    cache=False,\n",
    "    prefix=\"GSM8657811_H692_\"\n",
    ")"
   ]
  },
  {
   "cell_type": "code",
   "execution_count": 73,
   "id": "2f68a97d-4625-4452-8dec-82c8664624eb",
   "metadata": {},
   "outputs": [],
   "source": [
    "adata_HB92.var_names_make_unique()"
   ]
  },
  {
   "cell_type": "code",
   "execution_count": 74,
   "id": "0b663aaa-f954-4120-aa79-55281691d7a2",
   "metadata": {},
   "outputs": [],
   "source": [
    "sc.pp.filter_genes(adata_HB92, min_cells =10)\n",
    "sc.pp.filter_cells(adata_HB92, min_genes =200)"
   ]
  },
  {
   "cell_type": "code",
   "execution_count": 75,
   "id": "d16290fa-bb9d-4acd-9c63-e3902a5768ef",
   "metadata": {},
   "outputs": [
    {
     "data": {
      "text/plain": [
       "AnnData object with n_obs × n_vars = 621 × 9982\n",
       "    obs: 'n_genes'\n",
       "    var: 'gene_ids', 'n_cells'"
      ]
     },
     "execution_count": 75,
     "metadata": {},
     "output_type": "execute_result"
    }
   ],
   "source": [
    "adata_HB92.var = adata_HB92.var.drop(columns=['feature_types'])\n",
    "adata_HB92.var_names_make_unique()\n",
    "adata_HB92"
   ]
  },
  {
   "cell_type": "markdown",
   "id": "86938269-8ad0-41da-b2c7-175552438bd2",
   "metadata": {},
   "source": [
    "---------------"
   ]
  },
  {
   "cell_type": "code",
   "execution_count": 76,
   "id": "da569c59-2a3b-4a96-b35b-3574abfe51da",
   "metadata": {},
   "outputs": [
    {
     "name": "stdout",
     "output_type": "stream",
     "text": [
      "Descomprimido: /home/mcgonzalez/Servicio_Social/Data/CellTypist_HB/GSM8657812_H693/GSM8657812_H693_barcodes.tsv.gz\n",
      "Descomprimido: /home/mcgonzalez/Servicio_Social/Data/CellTypist_HB/GSM8657812_H693/GSM8657812_H693_features.tsv.gz\n",
      "Descomprimido: /home/mcgonzalez/Servicio_Social/Data/CellTypist_HB/GSM8657812_H693/GSM8657812_H693_matrix.mtx.gz\n"
     ]
    }
   ],
   "source": [
    "import gzip\n",
    "import shutil\n",
    "import os\n",
    "\n",
    "# Ruta base donde están los archivos\n",
    "base_path = \"/home/mcgonzalez/Servicio_Social/Data/CellTypist_HB/GSM8657812_H693\"\n",
    "\n",
    "# Archivos de entrada y salida\n",
    "files = [\n",
    "    \"GSM8657812_H693_barcodes.tsv.gz\",\n",
    "    \"GSM8657812_H693_features.tsv.gz\",\n",
    "    \"GSM8657812_H693_matrix.mtx.gz\",\n",
    "]\n",
    "\n",
    "# Descomprimir cada archivo\n",
    "for file in files:\n",
    "    input_path = os.path.join(base_path, file)\n",
    "    output_path = os.path.join(base_path, file.replace('.gz', ''))\n",
    "    with gzip.open(input_path, 'rb') as f_in:\n",
    "        with open(output_path, 'wb') as f_out:\n",
    "            shutil.copyfileobj(f_in, f_out)\n",
    "            print(f\"Descomprimido: {input_path}\")"
   ]
  },
  {
   "cell_type": "code",
   "execution_count": 77,
   "id": "e07503b4-ea68-48c5-b0f9-209d2ad47d00",
   "metadata": {},
   "outputs": [],
   "source": [
    "adata_HB93 = sc.read_10x_mtx(\n",
    "    \"/home/mcgonzalez/Servicio_Social/Data/CellTypist_HB/GSM8657812_H693\",\n",
    "    var_names=\"gene_symbols\",\n",
    "    cache=False,\n",
    "    prefix=\"GSM8657812_H693_\"\n",
    ")"
   ]
  },
  {
   "cell_type": "code",
   "execution_count": 78,
   "id": "e568c281-aee6-4813-9d4a-2144010e6139",
   "metadata": {},
   "outputs": [],
   "source": [
    "adata_HB93.var_names_make_unique()"
   ]
  },
  {
   "cell_type": "code",
   "execution_count": 79,
   "id": "7f730c7e-5bd1-4129-9c43-e1bf185af0c7",
   "metadata": {},
   "outputs": [],
   "source": [
    "sc.pp.filter_genes(adata_HB93, min_cells =10)\n",
    "sc.pp.filter_cells(adata_HB93, min_genes =200)"
   ]
  },
  {
   "cell_type": "code",
   "execution_count": 80,
   "id": "9505a9fd-99e4-4a91-896a-379762a17c82",
   "metadata": {},
   "outputs": [
    {
     "data": {
      "text/plain": [
       "AnnData object with n_obs × n_vars = 3401 × 14030\n",
       "    obs: 'n_genes'\n",
       "    var: 'gene_ids', 'n_cells'"
      ]
     },
     "execution_count": 80,
     "metadata": {},
     "output_type": "execute_result"
    }
   ],
   "source": [
    "adata_HB93.var = adata_HB93.var.drop(columns=['feature_types'])\n",
    "adata_HB93.var_names_make_unique()\n",
    "adata_HB93"
   ]
  },
  {
   "cell_type": "markdown",
   "id": "456dcd12-b36c-4748-b517-be8ae0687d35",
   "metadata": {},
   "source": [
    "-------------\n",
    "## <span style=\"color:navy\">1.3 Creación de archivos h5ad</span>"
   ]
  },
  {
   "cell_type": "code",
   "execution_count": 81,
   "id": "91b51f5b-1dd8-44c4-8065-f46083e11d10",
   "metadata": {},
   "outputs": [
    {
     "data": {
      "text/plain": [
       "'/home/mcgonzalez/Servicio_Social/Data/CellTypist_HB'"
      ]
     },
     "execution_count": 81,
     "metadata": {},
     "output_type": "execute_result"
    }
   ],
   "source": [
    "pwd"
   ]
  },
  {
   "cell_type": "code",
   "execution_count": 82,
   "id": "f95618b9-49e9-46f6-902f-af5cc9f63442",
   "metadata": {},
   "outputs": [
    {
     "name": "stdout",
     "output_type": "stream",
     "text": [
      "/home/mcgonzalez/Servicio_Social/Data/HB_h5ad\n"
     ]
    },
    {
     "name": "stderr",
     "output_type": "stream",
     "text": [
      "/home/mcgonzalez/miniconda3/envs/Servicio/lib/python3.10/site-packages/IPython/core/magics/osm.py:417: UserWarning: This is now an optional IPython functionality, setting dhist requires you to install the `pickleshare` library.\n",
      "  self.shell.db['dhist'] = compress_dhist(dhist)[-100:]\n"
     ]
    }
   ],
   "source": [
    "%cd /home/mcgonzalez/Servicio_Social/Data/HB_h5ad"
   ]
  },
  {
   "cell_type": "code",
   "execution_count": 83,
   "id": "b0e3ea28-11c6-4089-99c6-fa4566d966aa",
   "metadata": {},
   "outputs": [],
   "source": [
    "adata_HB1.write_h5ad('tumor1')"
   ]
  },
  {
   "cell_type": "code",
   "execution_count": 85,
   "id": "d855271c-e65e-4065-a815-a1323a027675",
   "metadata": {},
   "outputs": [],
   "source": [
    "adata_HB4.write_h5ad('tumor2')"
   ]
  },
  {
   "cell_type": "code",
   "execution_count": 86,
   "id": "d3694bfb-2b69-423c-99d4-8f8681298cdd",
   "metadata": {},
   "outputs": [],
   "source": [
    "adata_HB6.write_h5ad('tumor3')"
   ]
  },
  {
   "cell_type": "code",
   "execution_count": 87,
   "id": "90950503-3dbe-45e2-8837-e8a66b0dd2fd",
   "metadata": {},
   "outputs": [],
   "source": [
    "adata_HB7.write_h5ad('tumor4')"
   ]
  },
  {
   "cell_type": "code",
   "execution_count": 88,
   "id": "2bebf05b-1ee3-4836-a647-68523f1d4586",
   "metadata": {},
   "outputs": [],
   "source": [
    "adata_HB12.write_h5ad('tumor5')"
   ]
  },
  {
   "cell_type": "code",
   "execution_count": 89,
   "id": "996cc547-ec37-4247-b18b-8d31a79bd11a",
   "metadata": {},
   "outputs": [],
   "source": [
    "adata_HB13.write_h5ad('tumor6')"
   ]
  },
  {
   "cell_type": "code",
   "execution_count": 90,
   "id": "66e49dee-f0f1-4468-914a-6446d5c8b7d3",
   "metadata": {},
   "outputs": [],
   "source": [
    "adata_HB14.write_h5ad('tumor7')"
   ]
  },
  {
   "cell_type": "code",
   "execution_count": 91,
   "id": "3fda9756-b027-41be-9ea4-3fe43c3208aa",
   "metadata": {},
   "outputs": [],
   "source": [
    "adata_HB15.write_h5ad('tumor8')"
   ]
  },
  {
   "cell_type": "code",
   "execution_count": 92,
   "id": "158f4a2e-2170-4306-b94f-6732cf1c68dc",
   "metadata": {},
   "outputs": [],
   "source": [
    "adata_HB16.write_h5ad('tumor9')"
   ]
  },
  {
   "cell_type": "code",
   "execution_count": 93,
   "id": "7bf1d71d-b5dd-4b2d-ad06-d54e1c1d2ec7",
   "metadata": {},
   "outputs": [],
   "source": [
    "adata_HB17.write_h5ad('tumor10')"
   ]
  },
  {
   "cell_type": "code",
   "execution_count": 94,
   "id": "aef9c1bd-fd4f-4078-90fc-9d9c3c1e9a19",
   "metadata": {},
   "outputs": [],
   "source": [
    "adata_HB78.write_h5ad('tumor11')"
   ]
  },
  {
   "cell_type": "code",
   "execution_count": 95,
   "id": "539b1faf-f2f5-4b9a-aff6-126a6a1c4837",
   "metadata": {},
   "outputs": [],
   "source": [
    "adata_HB79.write_h5ad('tumor12')"
   ]
  },
  {
   "cell_type": "code",
   "execution_count": 96,
   "id": "055fbede-1a06-4afa-9a04-48dae8963f4c",
   "metadata": {},
   "outputs": [],
   "source": [
    "adata_HB91.write_h5ad('tumor13')"
   ]
  },
  {
   "cell_type": "code",
   "execution_count": 97,
   "id": "b59b5234-d5a9-4dd6-818a-aa8b9cbc1fe2",
   "metadata": {},
   "outputs": [],
   "source": [
    "adata_HB92.write_h5ad('tumor14')"
   ]
  },
  {
   "cell_type": "code",
   "execution_count": 98,
   "id": "066e7a23-d902-40f1-9299-63fe7a74f557",
   "metadata": {},
   "outputs": [],
   "source": [
    "adata_HB93.write_h5ad('tumor15')"
   ]
  },
  {
   "cell_type": "code",
   "execution_count": null,
   "id": "4ed2cb41-846b-4588-97be-d77796959dfd",
   "metadata": {},
   "outputs": [],
   "source": []
  }
 ],
 "metadata": {
  "kernelspec": {
   "display_name": "Python (Servicio)",
   "language": "python",
   "name": "servicio"
  },
  "language_info": {
   "codemirror_mode": {
    "name": "ipython",
    "version": 3
   },
   "file_extension": ".py",
   "mimetype": "text/x-python",
   "name": "python",
   "nbconvert_exporter": "python",
   "pygments_lexer": "ipython3",
   "version": "3.10.16"
  }
 },
 "nbformat": 4,
 "nbformat_minor": 5
}
